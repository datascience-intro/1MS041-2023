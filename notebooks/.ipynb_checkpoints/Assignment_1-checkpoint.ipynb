{
 "cells": [
  {
   "cell_type": "markdown",
   "metadata": {
    "deletable": false
   },
   "source": [
    "# Assignment 1 for Course 1MS041\n",
    "Make         sure you pass the `# ... Test` cells and\n",
    " submit your solution notebook in the corresponding assignment on the course website. You can submit multiple times before the deadline         and your highest score will be used."
   ]
  },
  {
   "cell_type": "markdown",
   "metadata": {
    "deletable": false,
    "lx_assignment_number": "1",
    "lx_assignment_type": "ASSIGNMENT",
    "lx_assignment_type2print": "Assignment",
    "lx_problem_cell_type": "PROBLEM",
    "lx_problem_number": "1",
    "lx_problem_points": "3"
   },
   "source": [
    "---\n",
    "## Assignment 1, PROBLEM 1\n",
    "Maximum Points = 3"
   ]
  },
  {
   "cell_type": "markdown",
   "metadata": {
    "deletable": false,
    "lx_assignment_number": "1",
    "lx_assignment_type": "ASSIGNMENT",
    "lx_assignment_type2print": "Assignment",
    "lx_problem_cell_type": "PROBLEM",
    "lx_problem_number": "1",
    "lx_problem_points": "3"
   },
   "source": [
    "\n",
    "\n",
    "Given that you are being introduced to data science it is important to bear in mind the true costs of AI, a highly predictive family of algorithms used in data engineering sciences:\n",
    "\n",
    "Read the 16 pages of [ai-anatomy-publication.pdf](http://www.anatomyof.ai/img/ai-anatomy-publication.pdf) with the highly detailed [ai-anatomy-map.pdf](https://anatomyof.ai/img/ai-anatomy-map.pdf) of [https://anatomyof.ai/](https://anatomyof.ai/), \"Anatomy of an AI System\" By Kate Crawford and Vladan Joler (2018).  The first problem in ASSIGNMENT 1 is a trivial test of your reading comprehension.\n",
    "\n",
    "\n",
    "Answer whether each of the following statements is `True` or `False` *according to the authors* by appropriately replacing `Xxxxx` coresponding to `TruthValueOfStatement0a`, `TruthValueOfStatement0b` and `TruthValueOfStatement0c`, respectively, in the next cell to demonstrate your reading comprehension.\n",
    "\n",
    "1. `Statement0a =` *Each small moment of convenience (provided by Amazon's Echo) – be it answering a question, turning on a light, or playing a song – requires a vast planetary network, fueled by the extraction of non-renewable materials, labor, and data.*\n",
    "2. `Statement0b =` *The Echo user is simultaneously a consumer, a resource, a worker, and a product* \n",
    "3. `Statement0c =` *Many of the assumptions about human life made by machine learning systems are narrow, normative and laden with error. Yet they are inscribing and building those assumptions into a new world, and will increasingly play a role in how opportunities, wealth, and knowledge are distributed.*"
   ]
  },
  {
   "cell_type": "code",
   "execution_count": null,
   "metadata": {
    "deletable": false,
    "lx_assignment_number": "1",
    "lx_assignment_type": "ASSIGNMENT",
    "lx_assignment_type2print": "Assignment",
    "lx_problem_cell_type": "PROBLEM",
    "lx_problem_number": "1",
    "lx_problem_points": "3"
   },
   "outputs": [],
   "source": [
    "\n",
    "# Replace Xxxxx with True or False; Don't modify anything else in this cell!\n",
    "\n",
    "TruthValueOfStatement0a = Xxxxx\n",
    "\n",
    "TruthValueOfStatement0b = Xxxxx\n",
    "\n",
    "TruthValueOfStatement0c = Xxxxx"
   ]
  },
  {
   "cell_type": "markdown",
   "metadata": {
    "deletable": false,
    "lx_assignment_number": "1",
    "lx_assignment_type": "ASSIGNMENT",
    "lx_assignment_type2print": "Assignment",
    "lx_problem_cell_type": "Test",
    "lx_problem_number": "1",
    "lx_problem_points": "3"
   },
   "source": [
    "---\n",
    "#### Local Test for Assignment 1, PROBLEM 1\n",
    "Evaluate cell below to make sure your answer is valid.                             You **should not** modify anything in the cell below when evaluating it to do a local test of                             your solution.\n",
    "You may need to include and evaluate code snippets from lecture notebooks in cells above to make the local test work correctly sometimes (see error messages for clues). This is meant to help you become efficient at recalling materials covered in lectures that relate to this problem. Such local tests will generally not be available in the exam."
   ]
  },
  {
   "cell_type": "code",
   "execution_count": null,
   "metadata": {
    "deletable": false,
    "lx_assignment_number": "1",
    "lx_assignment_type": "ASSIGNMENT",
    "lx_assignment_type2print": "Assignment",
    "lx_problem_cell_type": "Test",
    "lx_problem_number": "1",
    "lx_problem_points": "3"
   },
   "outputs": [],
   "source": [
    "# Test locally to ensure an acceptable answer, True or False\n",
    "try:\n",
    "    assert(isinstance(TruthValueOfStatement0a, bool)) \n",
    "    assert(isinstance(TruthValueOfStatement0b, bool)) \n",
    "    assert(isinstance(TruthValueOfStatement0c, bool))\n",
    "except:\n",
    "    print(\"Try again. You are not writing True or False for your answers.\")\n",
    "else:\n",
    "    print(\"Good, you have answered either True or False. Hopefully they are the correct answers!\")"
   ]
  },
  {
   "cell_type": "markdown",
   "metadata": {
    "deletable": false,
    "lx_assignment_number": "1",
    "lx_assignment_type": "ASSIGNMENT",
    "lx_assignment_type2print": "Assignment",
    "lx_problem_cell_type": "PROBLEM",
    "lx_problem_number": "2",
    "lx_problem_points": "2"
   },
   "source": [
    "---\n",
    "## Assignment 1, PROBLEM 2\n",
    "Maximum Points = 2"
   ]
  },
  {
   "cell_type": "markdown",
   "metadata": {
    "deletable": false,
    "lx_assignment_number": "1",
    "lx_assignment_type": "ASSIGNMENT",
    "lx_assignment_type2print": "Assignment",
    "lx_problem_cell_type": "PROBLEM",
    "lx_problem_number": "2",
    "lx_problem_points": "2"
   },
   "source": [
    "\n",
    "Evaluate the following cells by replacing `X` with the right command-line option to `head` in order to find the first two lines of the csv file `data/earthquakes.csv`\n",
    "\n",
    "```\n",
    "%%sh\n",
    "man head\n",
    "\n",
    "HEAD(1)                   BSD General Commands Manual                  HEAD(1)\n",
    "\n",
    "NAME\n",
    "     head -- display first lines of a file\n",
    "\n",
    "SYNOPSIS\n",
    "     head [-n count | -c bytes] [file ...]\n",
    "\n",
    "DESCRIPTION\n",
    "     This filter displays the first count lines or bytes of each of the speci-\n",
    "     fied files, or of the standard input if no files are specified.  If count\n",
    "     is omitted it defaults to 10.\n",
    "\n",
    "     If more than a single file is specified, each file is preceded by a\n",
    "     header consisting of the string ``==> XXX <=='' where ``XXX'' is the name\n",
    "     of the file.\n",
    "\n",
    "EXIT STATUS\n",
    "     The head utility exits 0 on success, and >0 if an error occurs.\n",
    "\n",
    "SEE ALSO\n",
    "     tail(1)\n",
    "\n",
    "HISTORY\n",
    "     The head command appeared in PWB UNIX.\n",
    "\n",
    "BSD                              June 6, 1993                              BSD\n",
    "```"
   ]
  },
  {
   "cell_type": "code",
   "execution_count": 169,
   "metadata": {
    "deletable": false,
    "lx_assignment_number": "1",
    "lx_assignment_type": "ASSIGNMENT",
    "lx_assignment_type2print": "Assignment",
    "lx_problem_cell_type": "PROBLEM",
    "lx_problem_number": "2",
    "lx_problem_points": "2"
   },
   "outputs": [
    {
     "name": "stdout",
     "output_type": "stream",
     "text": [
      "publicid,eventtype,origintime,modificationtime,longitude, latitude, magnitude, depth,magnitudetype,depthtype,evaluationmethod,evaluationstatus,evaluationmode,earthmodel,usedphasecount,usedstationcount,magnitudestationcount,minimumdistance,azimuthalgap,originerror,magnitudeuncertainty\n",
      "2018p368955,,2018-05-17T12:19:35.516Z,2018-05-17T12:21:54.953Z,178.4653957,-37.51944533,2.209351541,20.9375,M,,NonLinLoc,,automatic,nz3drx,12,12,6,0.1363924727,261.0977462,0.8209633086,0\n"
     ]
    }
   ],
   "source": [
    "%%sh\n",
    "head -n 2 data/earthquakes.csv"
   ]
  },
  {
   "cell_type": "code",
   "execution_count": 170,
   "metadata": {
    "deletable": false,
    "lx_assignment_number": "1",
    "lx_assignment_type": "ASSIGNMENT",
    "lx_assignment_type2print": "Assignment",
    "lx_problem_cell_type": "PROBLEM",
    "lx_problem_number": "2",
    "lx_problem_points": "2"
   },
   "outputs": [],
   "source": [
    "line_1_earthquakes = \"publicid,eventtype,origintime,modificationtime,longitude, latitude, magnitude, depth,magnitudetype,depthtype,evaluationmethod,evaluationstatus,evaluationmode,earthmodel,usedphasecount,usedstationcount,magnitudestationcount,minimumdistance,azimuthalgap,originerror,magnitudeuncertainty\"\n",
    "line_2_earthquakes = \"2018p368955,,2018-05-17T12:19:35.516Z,2018-05-17T12:21:54.953Z,178.4653957,-37.51944533,2.209351541,20.9375,M,,NonLinLoc,,automatic,nz3drx,12,12,6,0.1363924727,261.0977462,0.8209633086,0\""
   ]
  },
  {
   "cell_type": "markdown",
   "metadata": {
    "deletable": false,
    "lx_assignment_number": "1",
    "lx_assignment_type": "ASSIGNMENT",
    "lx_assignment_type2print": "Assignment",
    "lx_problem_cell_type": "Test",
    "lx_problem_number": "2",
    "lx_problem_points": "2"
   },
   "source": [
    "---\n",
    "#### Local Test for Assignment 1, PROBLEM 2\n",
    "Evaluate cell below to make sure your answer is valid.                             You **should not** modify anything in the cell below when evaluating it to do a local test of                             your solution.\n",
    "You may need to include and evaluate code snippets from lecture notebooks in cells above to make the local test work correctly sometimes (see error messages for clues). This is meant to help you become efficient at recalling materials covered in lectures that relate to this problem. Such local tests will generally not be available in the exam."
   ]
  },
  {
   "cell_type": "code",
   "execution_count": 171,
   "metadata": {
    "deletable": false,
    "lx_assignment_number": "1",
    "lx_assignment_type": "ASSIGNMENT",
    "lx_assignment_type2print": "Assignment",
    "lx_problem_cell_type": "Test",
    "lx_problem_number": "2",
    "lx_problem_points": "2"
   },
   "outputs": [
    {
     "name": "stdout",
     "output_type": "stream",
     "text": [
      "Good! You have answered as a string for line 1. Hopefully it is the correct!\n",
      "Good! You have answered as a string for line 2. Hopefully it is the correct!\n"
     ]
    }
   ],
   "source": [
    "# Evaluate this cell locally to make sure you have the answer as a string\n",
    "try:\n",
    "    assert(type(line_1_earthquakes) == str)\n",
    "    print(\"Good! You have answered as a string for line 1. Hopefully it is the correct!\")\n",
    "except AssertionError:\n",
    "    print(\"Try Again. You should answer with a string.\")\n",
    "try:\n",
    "    assert(type(line_2_earthquakes) == str)\n",
    "    print(\"Good! You have answered as a string for line 2. Hopefully it is the correct!\")\n",
    "except AssertionError:\n",
    "    print(\"Try Again. You should answer with a string.\")"
   ]
  },
  {
   "cell_type": "markdown",
   "metadata": {
    "deletable": false,
    "lx_assignment_number": "1",
    "lx_assignment_type": "ASSIGNMENT",
    "lx_assignment_type2print": "Assignment",
    "lx_problem_cell_type": "PROBLEM",
    "lx_problem_number": "3",
    "lx_problem_points": "3"
   },
   "source": [
    "---\n",
    "## Assignment 1, PROBLEM 3\n",
    "Maximum Points = 3"
   ]
  },
  {
   "cell_type": "markdown",
   "metadata": {
    "deletable": false,
    "lx_assignment_number": "1",
    "lx_assignment_type": "ASSIGNMENT",
    "lx_assignment_type2print": "Assignment",
    "lx_problem_cell_type": "PROBLEM",
    "lx_problem_number": "3",
    "lx_problem_points": "3"
   },
   "source": [
    "\n",
    "In this assignment the goal is to parse the `earthquakes.csv` file from the previous problem.\n",
    "\n",
    "1. Read the file `data/earthquakes.csv` and parse it using the `csv` package and store the result as follows\n",
    "\n",
    "the `header` variable contains a list of names all as strings\n",
    "\n",
    "the `data` variable should be a list of lists containing all the rows of the csv file"
   ]
  },
  {
   "cell_type": "code",
   "execution_count": 179,
   "metadata": {
    "deletable": false,
    "lx_assignment_number": "1",
    "lx_assignment_type": "ASSIGNMENT",
    "lx_assignment_type2print": "Assignment",
    "lx_problem_cell_type": "PROBLEM",
    "lx_problem_number": "3",
    "lx_problem_points": "3"
   },
   "outputs": [
    {
     "name": "stdout",
     "output_type": "stream",
     "text": [
      "['publicid', 'eventtype', 'origintime', 'modificationtime', 'longitude', ' latitude', ' magnitude', ' depth', 'magnitudetype', 'depthtype', 'evaluationmethod', 'evaluationstatus', 'evaluationmode', 'earthmodel', 'usedphasecount', 'usedstationcount', 'magnitudestationcount', 'minimumdistance', 'azimuthalgap', 'originerror', 'magnitudeuncertainty']\n",
      "['2018p368955', '', '2018-05-17T12:19:35.516Z', '2018-05-17T12:21:54.953Z', '178.4653957', '-37.51944533', '2.209351541', '20.9375', 'M', '', 'NonLinLoc', '', 'automatic', 'nz3drx', '12', '12', '6', '0.1363924727', '261.0977462', '0.8209633086', '0']\n"
     ]
    }
   ],
   "source": [
    "import csv\n",
    "\n",
    "data = []\n",
    "with open(file='data/earthquakes.csv',mode='r') as f:\n",
    "    reader = csv.reader(f)\n",
    "    #current_pos = f.tell()\n",
    "    header = next(reader)\n",
    "    #f.seek(current_pos)\n",
    "    #print(next(reader))\n",
    "    for line in reader:\n",
    "        data.append(line)\n",
    "\n",
    "#header = XXX\n",
    "\n",
    "#data = XXX\n",
    "print(header)\n",
    "print(data[0])"
   ]
  },
  {
   "cell_type": "markdown",
   "metadata": {
    "deletable": false,
    "lx_assignment_number": "1",
    "lx_assignment_type": "ASSIGNMENT",
    "lx_assignment_type2print": "Assignment",
    "lx_problem_cell_type": "Test",
    "lx_problem_number": "3",
    "lx_problem_points": "3"
   },
   "source": [
    "---\n",
    "#### Local Test for Assignment 1, PROBLEM 3\n",
    "Evaluate cell below to make sure your answer is valid.                             You **should not** modify anything in the cell below when evaluating it to do a local test of                             your solution.\n",
    "You may need to include and evaluate code snippets from lecture notebooks in cells above to make the local test work correctly sometimes (see error messages for clues). This is meant to help you become efficient at recalling materials covered in lectures that relate to this problem. Such local tests will generally not be available in the exam."
   ]
  },
  {
   "cell_type": "code",
   "execution_count": 180,
   "metadata": {
    "deletable": false,
    "lx_assignment_number": "1",
    "lx_assignment_type": "ASSIGNMENT",
    "lx_assignment_type2print": "Assignment",
    "lx_problem_cell_type": "Test",
    "lx_problem_number": "3",
    "lx_problem_points": "3"
   },
   "outputs": [
    {
     "name": "stdout",
     "output_type": "stream",
     "text": [
      "Good! You have the header as a list. Hopefully it is the correct!\n",
      "Good! You have the header as a list of strings. Hopefully it is the correct!\n",
      "Good! You have the data as a list. Hopefully it is the correct!\n",
      "Good! You have the data as a list of lists. Hopefully it is the correct!\n",
      "Good! You have the data as a list of lists of strings. Hopefully it is the correct!\n"
     ]
    }
   ],
   "source": [
    "\n",
    "# Evaluate this cell locally to make sure you have the answer in the right format\n",
    "try:\n",
    "    assert(type(header) == list)\n",
    "    print(\"Good! You have the header as a list. Hopefully it is the correct!\")\n",
    "except AssertionError:\n",
    "    print(\"Try Again. You should answer with a list.\")\n",
    "try:\n",
    "    types = set([type(a) for a in header])\n",
    "    assert((len(types) == 1) and (list(types)[0] == str))\n",
    "    print(\"Good! You have the header as a list of strings. Hopefully it is the correct!\")\n",
    "except AssertionError:\n",
    "    print(\"Try Again. You should answer with a list of strings.\")\n",
    "try:\n",
    "    assert(type(data) == list)\n",
    "    print(\"Good! You have the data as a list. Hopefully it is the correct!\")\n",
    "except AssertionError:\n",
    "    print(\"Try Again. You should answer with a list.\")\n",
    "try:\n",
    "    types = set([type(a) for a in data])\n",
    "    assert((len(types) == 1) and (list(types)[0] == list))\n",
    "    print(\"Good! You have the data as a list of lists. Hopefully it is the correct!\")\n",
    "except AssertionError:\n",
    "    print(\"Try Again. You should answer with a list of lists.\")\n",
    "try:\n",
    "    types = set(sum([[type(d) for d in t] for t in data[:1]],[]))\n",
    "    assert((len(types) == 1) and (list(types)[0] == str))\n",
    "    print(\"Good! You have the data as a list of lists of strings. Hopefully it is the correct!\")\n",
    "except AssertionError:\n",
    "    print(\"Try Again. You should answer with a list of lists of strings.\")"
   ]
  },
  {
   "cell_type": "markdown",
   "metadata": {
    "deletable": false,
    "lx_assignment_number": "1",
    "lx_assignment_type": "ASSIGNMENT",
    "lx_assignment_type2print": "Assignment",
    "lx_problem_cell_type": "PROBLEM",
    "lx_problem_number": "4",
    "lx_problem_points": "8"
   },
   "source": [
    "---\n",
    "## Assignment 1, PROBLEM 4\n",
    "Maximum Points = 8"
   ]
  },
  {
   "cell_type": "markdown",
   "metadata": {
    "deletable": false,
    "lx_assignment_number": "1",
    "lx_assignment_type": "ASSIGNMENT",
    "lx_assignment_type2print": "Assignment",
    "lx_problem_cell_type": "PROBLEM",
    "lx_problem_number": "4",
    "lx_problem_points": "8"
   },
   "source": [
    "\n",
    "## Students passing exam (Sample exam problem)\n",
    "Let's say we have an exam question which consists of $20$ yes/no questions. \n",
    "From past performance of similar students, a randomly chosen student will know the correct answer to $N \\sim \\text{binom}(20,11/20)$ questions. Furthermore, we assume that the student will guess the answer with equal probability to each question they don't know the answer to, i.e. given $N$ we define $Z \\sim \\text{binom}(20-N,1/2)$ as the number of correctly guessed answers. Define $Y = N + Z$, i.e., $Y$ represents the number of total correct answers.\n",
    "\n",
    "We are interested in setting a deterministic threshold $T$, i.e., we would pass a student at threshold $T$ if $Y \\geq T$. Here $T \\in \\{0,1,2,\\ldots,20\\}$.\n",
    "\n",
    "1. [5p] For each threshold $T$, compute the probability that the student *knows* less than $10$ correct answers given that the student passed, i.e., $N < 10$. Put the answer in `problem11_probabilities` as a list.\n",
    "2. [3p] What is the smallest value of $T$ such that if $Y \\geq T$ then we are 90\\% certain that $N \\geq 10$?"
   ]
  },
  {
   "cell_type": "code",
   "execution_count": 191,
   "metadata": {
    "deletable": false,
    "lx_assignment_number": "1",
    "lx_assignment_type": "ASSIGNMENT",
    "lx_assignment_type2print": "Assignment",
    "lx_problem_cell_type": "PROBLEM",
    "lx_problem_number": "4",
    "lx_problem_points": "8"
   },
   "outputs": [],
   "source": [
    "\n",
    "# Hint the PMF of N is p_N(k) where p_N is\n",
    "from scipy.special import binom as binomial\n",
    "p = 11/20\n",
    "p_N = lambda k: binomial(20,k)*((1-p)**(20-k))*((p)**k)\n",
    "p1 = 1/2\n",
    "p_Z = lambda k,n: binomial(20-n,k)*((1-p1)**(20-n-k))*((p1)**k)"
   ]
  },
  {
   "cell_type": "code",
   "execution_count": 192,
   "metadata": {},
   "outputs": [
    {
     "data": {
      "text/plain": [
       "array([1.15944533e-07, 2.83419969e-06, 3.29082076e-05, 2.41326855e-04,\n",
       "       1.25355894e-03, 4.90280831e-03, 1.49808032e-02, 3.66197411e-02,\n",
       "       7.27308747e-02, 1.18524388e-01, 1.59349455e-01, 1.77054951e-01,\n",
       "       1.62300371e-01, 1.22072074e-01, 7.45996009e-02, 3.64709160e-02,\n",
       "       1.39298637e-02, 4.00597389e-03, 8.16031718e-04, 1.04986537e-04,\n",
       "       6.41584392e-06])"
      ]
     },
     "execution_count": 192,
     "metadata": {},
     "output_type": "execute_result"
    }
   ],
   "source": [
    "import numpy as np\n",
    "n = np.arange(0,21)\n",
    "y = np.arange(0,21)\n",
    "p_N_n = p_N(n)\n",
    "p_N_n"
   ]
  },
  {
   "cell_type": "code",
   "execution_count": 196,
   "metadata": {},
   "outputs": [
    {
     "data": {
      "text/plain": [
       "(21, 1)"
      ]
     },
     "execution_count": 196,
     "metadata": {},
     "output_type": "execute_result"
    }
   ],
   "source": [
    "y.reshape(-1,1).shape"
   ]
  },
  {
   "cell_type": "code",
   "execution_count": 197,
   "metadata": {},
   "outputs": [
    {
     "data": {
      "text/plain": [
       "(1, 21)"
      ]
     },
     "execution_count": 197,
     "metadata": {},
     "output_type": "execute_result"
    }
   ],
   "source": [
    "n.reshape(1,-1).shape"
   ]
  },
  {
   "cell_type": "code",
   "execution_count": 203,
   "metadata": {},
   "outputs": [],
   "source": [
    "yn = (y.reshape(-1,1)-n.reshape(1,-1))"
   ]
  },
  {
   "cell_type": "markdown",
   "metadata": {},
   "source": [
    "$P(Y = y) = \\sum_{n=0}^{21} P(Y = y | N = n)P(N = n)$"
   ]
  },
  {
   "cell_type": "code",
   "execution_count": 208,
   "metadata": {},
   "outputs": [],
   "source": [
    "p_Y_yn = p_Z((y.reshape(-1,1)-n),n) # P(Y = y | N = n)\n",
    "P_y = np.dot(p_Y_yn,p_N_n) # P(Y = y)\n",
    "\n",
    "P_Y_y_N10 = np.dot(p_Y_yn[:,:10],p_N_n[:10]) # P(Y = y ; N < 10)\n",
    "P_Y_T_N10 = np.cumsum(P_Y_y_N10[::-1])[::-1] # P(Y >= T ; N < 10)\n",
    "P_Y_T = np.cumsum(P_y[::-1])[::-1] # P(Y >= T)\n",
    "solution = P_Y_T_N10/P_Y_T # P(Y >= T ; N < 10)/P(Y >= T) = P(N < 10 | Y >= T)"
   ]
  },
  {
   "cell_type": "code",
   "execution_count": 212,
   "metadata": {},
   "outputs": [
    {
     "data": {
      "text/plain": [
       "array([0, 0, 0, 0, 0, 0, 0, 0, 0, 0, 0, 0, 0, 0, 0, 0, 0, 1, 1, 1, 1])"
      ]
     },
     "execution_count": 212,
     "metadata": {},
     "output_type": "execute_result"
    }
   ],
   "source": [
    "(solution < 0.1)*1"
   ]
  },
  {
   "cell_type": "code",
   "execution_count": 209,
   "metadata": {},
   "outputs": [
    {
     "data": {
      "text/plain": [
       "17"
      ]
     },
     "execution_count": 209,
     "metadata": {},
     "output_type": "execute_result"
    }
   ],
   "source": [
    "np.argmax(solution < 0.1)"
   ]
  },
  {
   "cell_type": "code",
   "execution_count": 210,
   "metadata": {},
   "outputs": [
    {
     "data": {
      "text/plain": [
       "0"
      ]
     },
     "execution_count": 210,
     "metadata": {},
     "output_type": "execute_result"
    }
   ],
   "source": [
    "np.argmin(solution < 0.1)"
   ]
  },
  {
   "cell_type": "code",
   "execution_count": null,
   "metadata": {
    "deletable": false,
    "lx_assignment_number": "1",
    "lx_assignment_type": "ASSIGNMENT",
    "lx_assignment_type2print": "Assignment",
    "lx_problem_cell_type": "PROBLEM",
    "lx_problem_number": "4",
    "lx_problem_points": "8"
   },
   "outputs": [],
   "source": [
    "\n",
    "# Part 1: \n",
    "# replace XXX to represent P(N < 10) for T = [0,1,2,...,20], i.e. your answer should be a list\n",
    "# of length 21.\n",
    "problem11_probabilities = [XXX,XXX,...,XXX]"
   ]
  },
  {
   "cell_type": "code",
   "execution_count": null,
   "metadata": {
    "deletable": false,
    "lx_assignment_number": "1",
    "lx_assignment_type": "ASSIGNMENT",
    "lx_assignment_type2print": "Assignment",
    "lx_problem_cell_type": "PROBLEM",
    "lx_problem_number": "4",
    "lx_problem_points": "8"
   },
   "outputs": [],
   "source": [
    "\n",
    "# Part 2: Give an integer between 0 and 20 which is the answer to 2.\n",
    "problem12_T = XXX"
   ]
  },
  {
   "cell_type": "markdown",
   "metadata": {
    "deletable": false,
    "lx_assignment_number": "1",
    "lx_assignment_type": "ASSIGNMENT",
    "lx_assignment_type2print": "Assignment",
    "lx_problem_cell_type": "PROBLEM",
    "lx_problem_number": "5",
    "lx_problem_points": "8"
   },
   "source": [
    "---\n",
    "## Assignment 1, PROBLEM 5\n",
    "Maximum Points = 8"
   ]
  },
  {
   "cell_type": "markdown",
   "metadata": {
    "deletable": false,
    "lx_assignment_number": "1",
    "lx_assignment_type": "ASSIGNMENT",
    "lx_assignment_type2print": "Assignment",
    "lx_problem_cell_type": "PROBLEM",
    "lx_problem_number": "5",
    "lx_problem_points": "8"
   },
   "source": [
    "\n",
    "## Concentration of measure (Sample exam problem)\n",
    "\n",
    "As you recall, we said that concentration of measure was simply the phenomenon where we expect that the probability of a large deviation of some quantity becoming smaller as we observe more samples: [0.4 points per correct answer]\n",
    "\n",
    "1. Which of the following will exponentially concentrate, i.e. for some $C_1,C_2,C_3,C_4 $ \n",
    "$$\n",
    "    P(Z - \\mathbb{E}[Z] \\geq \\epsilon) \\leq C_1 e^{-C_2 n \\epsilon^2} \\wedge C_3 e^{-C_4 n (\\epsilon+1)} \\enspace .\n",
    "$$\n",
    "\n",
    "    1. The empirical mean of i.i.d. sub-Gaussian random variables?\n",
    "    2. The empirical mean of i.i.d. sub-Exponential random variables?\n",
    "    3. The empirical mean of i.i.d. random variables with finite variance?\n",
    "    4. The empirical variance of i.i.d. random variables with finite variance?\n",
    "    5. The empirical variance of i.i.d. sub-Gaussian random variables?\n",
    "    6. The empirical variance of i.i.d. sub-Exponential random variables?\n",
    "    7. The empirical third moment of i.i.d. sub-Gaussian random variables?\n",
    "    8. The empirical fourth moment of i.i.d. sub-Gaussian random variables?\n",
    "    9. The empirical mean of i.i.d. deterministic random variables?\n",
    "    10. The empirical tenth moment of i.i.d. Bernoulli random variables?\n",
    "\n",
    "2. Which of the above will concentrate in the weaker sense, that for some $C_1$\n",
    "$$\n",
    "    P(Z - \\mathbb{E}[Z] \\geq \\epsilon) \\leq \\frac{C_1}{n \\epsilon^2}?\n",
    "$$"
   ]
  },
  {
   "cell_type": "code",
   "execution_count": null,
   "metadata": {
    "deletable": false,
    "lx_assignment_number": "1",
    "lx_assignment_type": "ASSIGNMENT",
    "lx_assignment_type2print": "Assignment",
    "lx_problem_cell_type": "PROBLEM",
    "lx_problem_number": "5",
    "lx_problem_points": "8"
   },
   "outputs": [],
   "source": [
    "# Answers to part 1, which of the alternatives exponentially concentrate, answer as a list\n",
    "# i.e. [1,4,5] that is example 1, 4, and 5 concentrate\n",
    "problem3_answer_1 = [1,2,5,9,10]"
   ]
  },
  {
   "cell_type": "code",
   "execution_count": null,
   "metadata": {
    "deletable": false,
    "lx_assignment_number": "1",
    "lx_assignment_type": "ASSIGNMENT",
    "lx_assignment_type2print": "Assignment",
    "lx_problem_cell_type": "PROBLEM",
    "lx_problem_number": "5",
    "lx_problem_points": "8"
   },
   "outputs": [],
   "source": [
    "# Answers to part 2, which of the alternatives concentrate in the weaker sense, answer as a list\n",
    "# i.e. [1,4,5] that is example 1, 4, and 5 concentrate\n",
    "problem3_answer_2 = [1,2,3,5,6,7,8,9,10]"
   ]
  }
 ],
 "metadata": {
  "kernelspec": {
   "display_name": "Python 3 (ipykernel)",
   "language": "python",
   "name": "python3"
  },
  "language_info": {
   "codemirror_mode": {
    "name": "ipython",
    "version": 3
   },
   "file_extension": ".py",
   "mimetype": "text/x-python",
   "name": "python",
   "nbconvert_exporter": "python",
   "pygments_lexer": "ipython3",
   "version": "3.9.13"
  },
  "lx_assignment_number": 1,
  "lx_course_instance": "2022",
  "lx_course_name": "Introduction to Data Science",
  "lx_course_number": "1MS041"
 },
 "nbformat": 4,
 "nbformat_minor": 4
}
