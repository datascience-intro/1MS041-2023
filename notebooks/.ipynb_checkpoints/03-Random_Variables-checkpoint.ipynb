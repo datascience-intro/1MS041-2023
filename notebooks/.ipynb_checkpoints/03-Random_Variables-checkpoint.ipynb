{
 "cells": [
  {
   "cell_type": "markdown",
   "id": "01bfe08b",
   "metadata": {
    "deletable": false
   },
   "source": [
    "# [Introduction to Data Science](http://datascience-intro.github.io/1MS041-2022/)    \n",
    "## 1MS041, 2022 \n",
    "&copy;2022 Raazesh Sainudiin, Benny Avelin. [Attribution 4.0 International     (CC BY 4.0)](https://creativecommons.org/licenses/by/4.0/)"
   ]
  },
  {
   "cell_type": "markdown",
   "id": "c568e4f9",
   "metadata": {},
   "source": [
    "## Second notebook on Random variables\n",
    "\n",
    "Lets take a look again at the spam dataset and look at our concepts there"
   ]
  },
  {
   "cell_type": "code",
   "execution_count": null,
   "id": "99c0f7dd",
   "metadata": {},
   "outputs": [],
   "source": [
    "from Utils import load_sms\n",
    "sms_data = load_sms()\n",
    "sms_data[:2]"
   ]
  },
  {
   "cell_type": "markdown",
   "id": "71a9a002",
   "metadata": {},
   "source": [
    "Let X represents each SMS text (an entry in the list), and let $Y$ represent whether text is spam or not i.e. $Y \\in \\{0,1\\}$. Thus $\\mathbb{P}(Y = 1)$ is the probability that we get a spam. The goal is to estimate:\n",
    "$$\n",
    "    \\mathbb{P}(Y = 1 | \\text{\"free\" or \"prize\" is in } X) \\enspace .\n",
    "$$\n",
    "That is, the probability that the SMS is spam given that \"free\" or \"prize\" occurs in the SMS. \n",
    "Hint: it is good to remove the upper/lower case of words so that we can also find \"Free\" and \"Prize\"; this can be done with `text.lower()` if `text` a string.\n",
    "\n",
    "To do this we can create a new random variable $Z$ which is $1$ if \"free\" or \"prize\" appears in $X$."
   ]
  },
  {
   "cell_type": "code",
   "execution_count": null,
   "id": "bfaa8830",
   "metadata": {},
   "outputs": [],
   "source": [
    "interesting_words=set(['free','prize'])\n",
    "TF10 = {True: 1, False: 0}\n",
    "Z_obs = [TF10[not interesting_words.isdisjoint([word.lower() for word in line[0].split(' ')])] for line in sms_data]"
   ]
  },
  {
   "cell_type": "code",
   "execution_count": null,
   "id": "afe17bf3",
   "metadata": {},
   "outputs": [],
   "source": [
    "Z_obs[:10]"
   ]
  },
  {
   "cell_type": "code",
   "execution_count": null,
   "id": "65dfef60",
   "metadata": {},
   "outputs": [],
   "source": [
    "Y_obs = [y for x,y in sms_data]\n",
    "Y_obs[:10]"
   ]
  },
  {
   "cell_type": "code",
   "execution_count": null,
   "id": "3e252405",
   "metadata": {},
   "outputs": [],
   "source": [
    "import numpy as np\n",
    "def F_X_12(x):\n",
    "    TF10 = {True: 1, False: 0}\n",
    "    return np.mean([TF10[(x1 <= x[0]) and (x2 <= x[1])] for x1,x2 in zip (Y_obs,Z_obs)])"
   ]
  },
  {
   "cell_type": "markdown",
   "id": "576918e2",
   "metadata": {},
   "source": [
    "This is the JDF for this problem"
   ]
  },
  {
   "cell_type": "code",
   "execution_count": null,
   "id": "fd8688d1",
   "metadata": {},
   "outputs": [],
   "source": [
    "for x1 in range(0,2):\n",
    "    for x2 in range(0,2):\n",
    "        print(F_X_12((x1,x2)),end=',\\t')\n",
    "    print('\\n')"
   ]
  },
  {
   "cell_type": "code",
   "execution_count": null,
   "id": "09fb9290",
   "metadata": {},
   "outputs": [],
   "source": [
    "F_X_12((1,0))"
   ]
  },
  {
   "cell_type": "code",
   "execution_count": null,
   "id": "9da09840",
   "metadata": {},
   "outputs": [],
   "source": [
    "F_X_12((0,0)) == F_X_12((0,1))*F_X_12((1,0))"
   ]
  },
  {
   "cell_type": "code",
   "execution_count": null,
   "id": "94568899",
   "metadata": {},
   "outputs": [],
   "source": [
    "# Are they indepdentent? If so, then the JDF is just the product of the \n",
    "# DFs for Y and Z, but\n",
    "0.865936826992103*0.955132806891601"
   ]
  },
  {
   "cell_type": "markdown",
   "id": "0ed96f44",
   "metadata": {},
   "source": [
    "Which is not 0.858, so they are not independent. So lets try to estimate the probability that $Y=1$ given that $Z = 1$. Lets again do that by filtering"
   ]
  },
  {
   "cell_type": "code",
   "execution_count": null,
   "id": "776d0963",
   "metadata": {},
   "outputs": [],
   "source": [
    "np.mean([y for z,y in zip(Z_obs,Y_obs) if z == 1])"
   ]
  },
  {
   "cell_type": "markdown",
   "id": "9862292e",
   "metadata": {},
   "source": [
    "Compare that with the marginal probability of $Y = 1$, which is according to our JDF 1-0.866 = 0.134"
   ]
  },
  {
   "cell_type": "code",
   "execution_count": null,
   "id": "ecad7b73",
   "metadata": {},
   "outputs": [],
   "source": [
    "# Or we can just compute it directly\n",
    "np.mean(Y_obs)"
   ]
  },
  {
   "cell_type": "markdown",
   "id": "655d8aab",
   "metadata": {},
   "source": [
    "What we see from this is that knowing that the words \"free\" or \"prize\" appeared in the sms text, we are much more certain that it is a spam. We also see that looking directly at the JDF this can be hard to see, although it is equivalent."
   ]
  },
  {
   "cell_type": "markdown",
   "id": "06f9a581",
   "metadata": {},
   "source": [
    "## Moments etc"
   ]
  },
  {
   "cell_type": "code",
   "execution_count": null,
   "id": "d5c30387",
   "metadata": {},
   "outputs": [],
   "source": [
    "import numpy as np\n",
    "x = np.random.normal(size=100)"
   ]
  },
  {
   "cell_type": "markdown",
   "id": "47880d5f",
   "metadata": {},
   "source": [
    "## Sample mean"
   ]
  },
  {
   "cell_type": "code",
   "execution_count": null,
   "id": "30050302",
   "metadata": {},
   "outputs": [],
   "source": [
    "np.mean(x)"
   ]
  },
  {
   "cell_type": "markdown",
   "id": "349a8b72",
   "metadata": {},
   "source": [
    "## Sample variance"
   ]
  },
  {
   "cell_type": "code",
   "execution_count": null,
   "id": "bb884724",
   "metadata": {},
   "outputs": [],
   "source": [
    "np.var(x)"
   ]
  },
  {
   "cell_type": "markdown",
   "id": "9451f08a",
   "metadata": {},
   "source": [
    "Or by doing it yourself"
   ]
  },
  {
   "cell_type": "code",
   "execution_count": null,
   "id": "58fc1c5c",
   "metadata": {},
   "outputs": [],
   "source": [
    "mu = np.mean(x)\n",
    "np.mean(np.power(x-mu,2))"
   ]
  },
  {
   "cell_type": "markdown",
   "id": "3eafc14e",
   "metadata": {},
   "source": [
    "Higher moments, we can use `scipy`"
   ]
  },
  {
   "cell_type": "code",
   "execution_count": null,
   "id": "704608a0",
   "metadata": {},
   "outputs": [],
   "source": [
    "from scipy.stats import skew, kurtosis"
   ]
  },
  {
   "cell_type": "code",
   "execution_count": null,
   "id": "c022f73c",
   "metadata": {},
   "outputs": [],
   "source": [
    "skew(x)"
   ]
  },
  {
   "cell_type": "code",
   "execution_count": null,
   "id": "154ec42d",
   "metadata": {},
   "outputs": [],
   "source": [
    "kurtosis(x,fisher=False)"
   ]
  },
  {
   "cell_type": "markdown",
   "id": "b32580de",
   "metadata": {},
   "source": [
    "## Moments and tail behavior"
   ]
  },
  {
   "cell_type": "code",
   "execution_count": null,
   "id": "7171187f",
   "metadata": {},
   "outputs": [],
   "source": [
    "def standardize(data):\n",
    "    mean = np.mean(data)\n",
    "    std = np.std(data)\n",
    "    return (data-mean)/std"
   ]
  },
  {
   "cell_type": "code",
   "execution_count": null,
   "id": "aede3d39",
   "metadata": {},
   "outputs": [],
   "source": [
    "import numpy as np\n",
    "chi2 = np.random.chisquare(4,size=10000)\n",
    "normal = np.random.normal(size=10000)\n",
    "import matplotlib.pyplot as plt\n",
    "_=plt.hist(standardize(chi2),bins=50,alpha=0.5)\n",
    "_=plt.hist(standardize(normal),bins=50,alpha=0.5)\n",
    "plt.xlim(-3,5)"
   ]
  },
  {
   "cell_type": "code",
   "execution_count": null,
   "id": "06635126",
   "metadata": {},
   "outputs": [],
   "source": [
    "from scipy.stats import skew, kurtosis\n",
    "def print_basic_stats(data):\n",
    "    print(\"mean: %.2f\\tstd: %.2f\\tskew: %.2f\\tkurtosis: %.2f\" % (np.mean(data),np.std(data),skew(data),kurtosis(data,fisher=False)))"
   ]
  },
  {
   "cell_type": "code",
   "execution_count": null,
   "id": "656b9e70",
   "metadata": {},
   "outputs": [],
   "source": [
    "print_basic_stats(normal)"
   ]
  },
  {
   "cell_type": "code",
   "execution_count": null,
   "id": "68c71ea1",
   "metadata": {},
   "outputs": [],
   "source": [
    "print_basic_stats(chi2)"
   ]
  },
  {
   "cell_type": "code",
   "execution_count": null,
   "id": "fdc9282d",
   "metadata": {},
   "outputs": [],
   "source": [
    "print_basic_stats(standardize(chi2))"
   ]
  },
  {
   "cell_type": "code",
   "execution_count": null,
   "id": "f4ae5cda",
   "metadata": {},
   "outputs": [],
   "source": [
    "np.mean(np.power(standardize(chi2),3)) # Skewness"
   ]
  },
  {
   "cell_type": "code",
   "execution_count": null,
   "id": "3beadf21",
   "metadata": {},
   "outputs": [],
   "source": [
    "np.mean(np.power(standardize(chi2),4)) # kurtosis"
   ]
  },
  {
   "cell_type": "markdown",
   "id": "b7f76b6b",
   "metadata": {},
   "source": [
    "## Transformations of random variables"
   ]
  },
  {
   "cell_type": "markdown",
   "id": "e31da31f",
   "metadata": {},
   "source": [
    "Consider a Binomial random variable"
   ]
  },
  {
   "cell_type": "code",
   "execution_count": null,
   "id": "9e9a90d4",
   "metadata": {},
   "outputs": [],
   "source": [
    "n = 10\n",
    "p = 0.5\n",
    "x = np.random.binomial(n,p,size=1000)"
   ]
  },
  {
   "cell_type": "markdown",
   "id": "ed18b223",
   "metadata": {},
   "source": [
    "Lets plot the empirical density"
   ]
  },
  {
   "cell_type": "code",
   "execution_count": null,
   "id": "87d57fb4",
   "metadata": {},
   "outputs": [],
   "source": [
    "from Utils import makeEMF,plotEDF,plotEMF\n",
    "plotEMF(makeEMF(x))"
   ]
  },
  {
   "cell_type": "markdown",
   "id": "67c486ee",
   "metadata": {},
   "source": [
    "If we had the function $g(x) = \\sin(x/3)$"
   ]
  },
  {
   "cell_type": "code",
   "execution_count": null,
   "id": "645ee3c5",
   "metadata": {},
   "outputs": [],
   "source": [
    "plotEMF(makeEMF(np.sin(x)))"
   ]
  },
  {
   "cell_type": "code",
   "execution_count": null,
   "id": "9ad3d79e",
   "metadata": {},
   "outputs": [],
   "source": [
    "plotEDF(makeEMF(np.sin(x)))"
   ]
  },
  {
   "cell_type": "markdown",
   "id": "65133282",
   "metadata": {},
   "source": [
    "Can we compute this thing?\n",
    "What is $\\sin^{[-1]}$?\n",
    "\n",
    "Since $X$ is discrete, we can check what $\\mathbb{Y}$ is, since $\\mathbb{X}=\\{0,1,\\ldots,10\\}$."
   ]
  },
  {
   "cell_type": "code",
   "execution_count": null,
   "id": "d7daa104",
   "metadata": {},
   "outputs": [],
   "source": [
    "Y_space = np.sort(np.sin(np.arange(0,11)))\n",
    "sin_inv = dict(zip(np.sin(np.arange(0,11)),np.arange(0,11)))"
   ]
  },
  {
   "cell_type": "code",
   "execution_count": null,
   "id": "fc7040e5",
   "metadata": {},
   "outputs": [],
   "source": [
    "from scipy.special import binom as binomial\n",
    "plotEMF([(y,binomial(n,sin_inv[y])*(p**sin_inv[y])*((1-p)**(n-sin_inv[y]))) for y in Y_space])"
   ]
  },
  {
   "cell_type": "code",
   "execution_count": null,
   "id": "e9a8dd61",
   "metadata": {},
   "outputs": [],
   "source": [
    "plotEDF([(y,binomial(n,sin_inv[y])*(p**sin_inv[y])*((1-p)**(n-sin_inv[y]))) for y in Y_space])"
   ]
  }
 ],
 "metadata": {
  "kernelspec": {
   "display_name": "Python 3 (ipykernel)",
   "language": "python",
   "name": "python3"
  },
  "language_info": {
   "codemirror_mode": {
    "name": "ipython",
    "version": 3
   },
   "file_extension": ".py",
   "mimetype": "text/x-python",
   "name": "python",
   "nbconvert_exporter": "python",
   "pygments_lexer": "ipython3",
   "version": "3.9.13"
  },
  "lx_course_instance": "2022",
  "lx_course_name": "Introduction to Data Science",
  "lx_course_number": "1MS041"
 },
 "nbformat": 4,
 "nbformat_minor": 5
}
