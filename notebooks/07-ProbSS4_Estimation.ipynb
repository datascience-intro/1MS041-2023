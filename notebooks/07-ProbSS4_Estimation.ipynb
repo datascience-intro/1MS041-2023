{
 "cells": [
  {
   "cell_type": "markdown",
   "metadata": {
    "deletable": false
   },
   "source": [
    "# [Introduction to Data Science](http://datascience-intro.github.io/1MS041-2023/)    \n",
    "## 1MS041, 2023 \n",
    "&copy;2023 Raazesh Sainudiin, Benny Avelin. [Attribution 4.0 International     (CC BY 4.0)](https://creativecommons.org/licenses/by/4.0/)"
   ]
  },
  {
   "cell_type": "code",
   "execution_count": 43,
   "metadata": {},
   "outputs": [
    {
     "name": "stdout",
     "output_type": "stream",
     "text": [
      "CORIS.csv                  final.csv.zip\r\n",
      "NYPowerBall.csv            final.tgz\r\n",
      "co2_mm_mlo.txt             flights.csv\r\n",
      "digits.csv                 leukemia.csv\r\n",
      "earthquakes.csv            portland.csv\r\n",
      "earthquakes.csv.zip        pride_and_prejudice.txt\r\n",
      "earthquakes.tgz            rainfallInChristchurch.csv\r\n",
      "earthquakes_small.csv      ratings.csv\r\n",
      "final.csv                  spam.csv\r\n"
     ]
    }
   ],
   "source": [
    "!ls data"
   ]
  },
  {
   "cell_type": "markdown",
   "metadata": {},
   "source": [
    "# Estimation of mean\n",
    "\n",
    "* Load data\n",
    "* Make assumptions\n",
    "* Estimate mean\n",
    "* Write down confidence interval"
   ]
  },
  {
   "cell_type": "code",
   "execution_count": 44,
   "metadata": {},
   "outputs": [
    {
     "name": "stdout",
     "output_type": "stream",
     "text": [
      "Draw Date,Winning Numbers,Multiplier\r\n",
      "02/09/2019,01 02 03 07 39 25,3\r\n",
      "02/06/2019,05 13 28 38 63 21,5\r\n"
     ]
    }
   ],
   "source": [
    "!head -n 3 data/NYPowerBall.csv"
   ]
  },
  {
   "cell_type": "code",
   "execution_count": 45,
   "metadata": {},
   "outputs": [],
   "source": [
    "import csv\n",
    "data = []\n",
    "\n",
    "with open('data/NYPowerBall.csv',mode='r') as f:\n",
    "    csv_reader = csv.reader(f)\n",
    "    header = next(csv_reader)\n",
    "    \n",
    "    for line in csv_reader:\n",
    "        data.append(line)"
   ]
  },
  {
   "cell_type": "code",
   "execution_count": 51,
   "metadata": {},
   "outputs": [
    {
     "data": {
      "text/plain": [
       "[1, 2, 2, 3]"
      ]
     },
     "execution_count": 51,
     "metadata": {},
     "output_type": "execute_result"
    }
   ],
   "source": [
    "[1,2]+[2,3]"
   ]
  },
  {
   "cell_type": "code",
   "execution_count": 52,
   "metadata": {},
   "outputs": [],
   "source": [
    "list_of_lists = [[int(str_number) for str_number in d[1].split(' ')] for d in data]\n",
    "numbers = sum(list_of_lists,start=[])"
   ]
  },
  {
   "cell_type": "code",
   "execution_count": 56,
   "metadata": {},
   "outputs": [
    {
     "data": {
      "text/plain": [
       "5646"
      ]
     },
     "execution_count": 56,
     "metadata": {},
     "output_type": "execute_result"
    }
   ],
   "source": [
    "len(numbers)"
   ]
  },
  {
   "cell_type": "code",
   "execution_count": 57,
   "metadata": {},
   "outputs": [],
   "source": [
    "import numpy as np\n",
    "arr = np.array(list_of_lists)\n",
    "numbers_arr = arr.flatten()"
   ]
  },
  {
   "cell_type": "code",
   "execution_count": 61,
   "metadata": {},
   "outputs": [
    {
     "data": {
      "text/plain": [
       "array([ 1,  2,  3,  4,  5,  6,  7,  8,  9, 10, 11, 12, 13, 14, 15, 16, 17,\n",
       "       18, 19, 20, 21, 22, 23, 24, 25, 26, 27, 28, 29, 30, 31, 32, 33, 34,\n",
       "       35, 36, 37, 38, 39, 40, 41, 42, 43, 44, 45, 46, 47, 48, 49, 50, 51,\n",
       "       52, 53, 54, 55, 56, 57, 58, 59, 60, 61, 62, 63, 64, 65, 66, 67, 68,\n",
       "       69])"
      ]
     },
     "execution_count": 61,
     "metadata": {},
     "output_type": "execute_result"
    }
   ],
   "source": [
    "np.unique(numbers_arr)"
   ]
  },
  {
   "cell_type": "code",
   "execution_count": 63,
   "metadata": {},
   "outputs": [
    {
     "data": {
      "text/plain": [
       "69"
      ]
     },
     "execution_count": 63,
     "metadata": {},
     "output_type": "execute_result"
    }
   ],
   "source": [
    "np.max(numbers_arr)"
   ]
  },
  {
   "cell_type": "code",
   "execution_count": 64,
   "metadata": {},
   "outputs": [
    {
     "data": {
      "text/plain": [
       "1"
      ]
     },
     "execution_count": 64,
     "metadata": {},
     "output_type": "execute_result"
    }
   ],
   "source": [
    "np.min(numbers_arr)"
   ]
  },
  {
   "cell_type": "markdown",
   "metadata": {},
   "source": [
    "### Assumption about data\n",
    "\n",
    "* Integers between 1 and 69\n",
    "* We assume that the lotto draws are independent and identically distributed\n",
    "\n",
    "### What to do\n",
    "\n",
    "Compute confidence interval using Hoeffdings inequality using the bounds above"
   ]
  },
  {
   "cell_type": "markdown",
   "metadata": {},
   "source": [
    "Lets say we fix a level $\\alpha \\in (0,1)$, and solve the equation\n",
    "$$\n",
    "    \\alpha = 2 e^{-\\frac{2n\\epsilon^2}{(b-a)^2}}\n",
    "$$"
   ]
  },
  {
   "cell_type": "markdown",
   "metadata": {},
   "source": [
    "$$\n",
    "    \\ln(\\alpha/2) = -\\frac{2n\\epsilon^2}{(b-a)^2}\n",
    "$$"
   ]
  },
  {
   "cell_type": "markdown",
   "metadata": {},
   "source": [
    "$$\n",
    "    -(b-a)^2\\ln(\\alpha/2)/(2n) =\\epsilon^2\n",
    "$$"
   ]
  },
  {
   "cell_type": "markdown",
   "metadata": {},
   "source": [
    "$$\n",
    "\\sqrt{(b-a)^2\\ln(2/\\alpha)/(2n)} = \\epsilon\n",
    "$$"
   ]
  },
  {
   "cell_type": "code",
   "execution_count": 65,
   "metadata": {},
   "outputs": [],
   "source": [
    "def compute_epsilon(alpha,n,a,b):\n",
    "    return np.sqrt((b-a)**2*np.log(2/alpha)/(2*n))"
   ]
  },
  {
   "cell_type": "code",
   "execution_count": 68,
   "metadata": {},
   "outputs": [
    {
     "data": {
      "text/plain": [
       "1.2290532787806112"
      ]
     },
     "execution_count": 68,
     "metadata": {},
     "output_type": "execute_result"
    }
   ],
   "source": [
    "alpha = 0.05\n",
    "n = numbers_arr.shape[0]\n",
    "a = 1\n",
    "b = 69\n",
    "delta = compute_epsilon(alpha,n,a,b)\n",
    "delta"
   ]
  },
  {
   "cell_type": "code",
   "execution_count": 69,
   "metadata": {},
   "outputs": [
    {
     "name": "stdout",
     "output_type": "stream",
     "text": [
      "Confidencen interval for the mean is:  (28.29361763868308, 30.751724196244304)\n"
     ]
    }
   ],
   "source": [
    "conf_interval = (np.mean(numbers_arr)-delta,np.mean(numbers_arr)+delta)\n",
    "print(\"Confidencen interval for the mean is: \",conf_interval)"
   ]
  },
  {
   "cell_type": "code",
   "execution_count": 71,
   "metadata": {},
   "outputs": [],
   "source": [
    "import Utils"
   ]
  },
  {
   "cell_type": "code",
   "execution_count": 72,
   "metadata": {},
   "outputs": [
    {
     "data": {
      "image/png": "[encoded data removed]",
      "text/plain": [
       "<Figure size 640x480 with 1 Axes>"
      ]
     },
     "metadata": {},
     "output_type": "display_data"
    }
   ],
   "source": [
    "import matplotlib.pyplot as plt\n",
    "#_=plt.hist(numbers_arr,bins=)\n",
    "Utils.discrete_histogram(numbers_arr)"
   ]
  },
  {
   "cell_type": "markdown",
   "metadata": {},
   "source": [
    "# Likelihood of parameter\n",
    "\n",
    "* Load data\n",
    "* Work with dates\n",
    "* Make assumptions\n",
    "* Write down the Risk\n",
    "* Split into two parts\n",
    "* Minimize the risk numerically on train\n",
    "* Test the risk on test\n",
    "* Make confidence intervals"
   ]
  },
  {
   "cell_type": "code",
   "execution_count": 73,
   "metadata": {
    "scrolled": true
   },
   "outputs": [
    {
     "name": "stdout",
     "output_type": "stream",
     "text": [
      "publicid,eventtype,origintime,modificationtime,longitude, latitude, magnitude, depth,magnitudetype,depthtype,evaluationmethod,evaluationstatus,evaluationmode,earthmodel,usedphasecount,usedstationcount,magnitudestationcount,minimumdistance,azimuthalgap,originerror,magnitudeuncertainty\r\n",
      "2018p368955,,2018-05-17T12:19:35.516Z,2018-05-17T12:21:54.953Z,178.4653957,-37.51944533,2.209351541,20.9375,M,,NonLinLoc,,automatic,nz3drx,12,12,6,0.1363924727,261.0977462,0.8209633086,0\r\n",
      "2018p368878,,2018-05-17T11:38:24.646Z,2018-05-17T11:40:26.254Z,177.8775115,-37.46115663,2.155154561,58.4375,M,,NonLinLoc,,automatic,nz3drx,11,11,7,0.3083220739,232.7487132,0.842884174,0\r\n",
      "2018p368781,,2018-05-17T10:46:46.526Z,2018-05-17T10:48:50.985Z,173.2372626,-41.23518154,2.253095604,84.6875,M,,NonLinLoc,,automatic,nz3drx,10,10,2,0.1078889041,102.8890897,0.9074578294,0\r\n",
      "2018p368697,,2018-05-17T10:01:46.378Z,2018-05-17T13:09:25.775Z,173.6257813,-42.31633991,2.177032628,10.15625,M,,NonLinLoc,,automatic,nz3drx,18,18,5,0.1188519686,149.0774416,1.13238628,0\r\n",
      "2018p368656,,2018-05-17T09:40:04.992Z,2018-05-17T13:02:04.914Z,174.0910246,-40.24770738,2.795031407,79.53125,M,,NonLinLoc,,automatic,nz3drx,67,67,31,0.5718802315,106.664982,0.9621823337,0\r\n",
      "2018p368601,,2018-05-17T09:10:38.932Z,2018-05-17T09:12:13.716Z,175.6727761,-40.52940002,1.708278752,23.515625,M,,NonLinLoc,,automatic,nz3drx,18,18,8,0.1530302312,86.39807611,0.4335147526,0\r\n",
      "2018p368580,,2018-05-17T08:59:42.531Z,2018-05-17T12:36:17.315Z,174.1328694,-41.27668298,2.553703193,44.84375,M,,NonLinLoc,,automatic,nz3drx,32,32,18,0.1262550266,64.06715786,0.5129392532,0\r\n",
      "2018p368529,,2018-05-17T08:32:19.667Z,2018-05-17T08:33:49.506Z,176.5342662,-39.21556944,1.863846449,9.8046875,M,,NonLinLoc,,automatic,nz3drx,23,23,13,0.05721273964,55.34019272,0.3470659652,0\r\n",
      "2018p368469,,2018-05-17T08:00:24.390Z,2018-05-17T08:02:02.454Z,174.4773123,-40.6763317,1.94465695,22.34375,M,,NonLinLoc,,automatic,nz3drx,10,10,5,0.3737378551,190.6890766,0.3538410436,0\r\n"
     ]
    }
   ],
   "source": [
    "!head -n 10 data/earthquakes.csv"
   ]
  },
  {
   "cell_type": "code",
   "execution_count": 74,
   "metadata": {},
   "outputs": [],
   "source": [
    "import csv\n",
    "data = []\n",
    "\n",
    "with open('data/earthquakes.csv',mode='r') as f:\n",
    "    csv_reader = csv.reader(f)\n",
    "    header = next(csv_reader)\n",
    "    \n",
    "    for line in csv_reader:\n",
    "        data.append(line)"
   ]
  },
  {
   "cell_type": "code",
   "execution_count": 77,
   "metadata": {},
   "outputs": [
    {
     "data": {
      "text/plain": [
       "'origintime'"
      ]
     },
     "execution_count": 77,
     "metadata": {},
     "output_type": "execute_result"
    }
   ],
   "source": [
    "header[2]"
   ]
  },
  {
   "cell_type": "code",
   "execution_count": 78,
   "metadata": {},
   "outputs": [
    {
     "data": {
      "text/plain": [
       "'2018-05-17T12:19:35.516Z'"
      ]
     },
     "execution_count": 78,
     "metadata": {},
     "output_type": "execute_result"
    }
   ],
   "source": [
    "data[0][2]"
   ]
  },
  {
   "cell_type": "code",
   "execution_count": 82,
   "metadata": {},
   "outputs": [
    {
     "data": {
      "text/plain": [
       "datetime.datetime(2018, 5, 17, 12, 19, 35, 516000)"
      ]
     },
     "execution_count": 82,
     "metadata": {},
     "output_type": "execute_result"
    }
   ],
   "source": [
    "import datetime\n",
    "#-05-17T12:19:35.516Z\n",
    "datetime.datetime.strptime(data[0][2],\"%Y-%m-%dT%H:%M:%S.%fZ\")"
   ]
  },
  {
   "cell_type": "code",
   "execution_count": 83,
   "metadata": {},
   "outputs": [],
   "source": [
    "origin_time = [datetime.datetime.strptime(d[2],\"%Y-%m-%dT%H:%M:%S.%fZ\") for d in data]"
   ]
  },
  {
   "cell_type": "code",
   "execution_count": 89,
   "metadata": {},
   "outputs": [],
   "source": [
    "or_time_arr = np.array(origin_time)\n",
    "sort_time_arr = np.sort(or_time_arr)\n",
    "time_between_eq=np.diff(sort_time_arr)"
   ]
  },
  {
   "cell_type": "code",
   "execution_count": 99,
   "metadata": {},
   "outputs": [],
   "source": [
    "time_between_eq_arr = np.array([d.total_seconds() for d in time_between_eq])"
   ]
  },
  {
   "cell_type": "code",
   "execution_count": 101,
   "metadata": {},
   "outputs": [
    {
     "data": {
      "image/png": "[encoded data removed]",
      "text/plain": [
       "<Figure size 640x480 with 1 Axes>"
      ]
     },
     "metadata": {},
     "output_type": "display_data"
    }
   ],
   "source": [
    "_=plt.hist(time_between_eq_arr,bins=200)"
   ]
  },
  {
   "cell_type": "markdown",
   "metadata": {},
   "source": [
    "### Assumptions on data\n",
    "\n",
    "* Exponentially distributed\n",
    "* Lets also assume that they are IID"
   ]
  },
  {
   "cell_type": "markdown",
   "metadata": {},
   "source": [
    "The density is given by?\n",
    "$$\n",
    "    f(x) = \\lambda^\\ast e^{-\\lambda^\\ast x}\n",
    "$$"
   ]
  },
  {
   "cell_type": "markdown",
   "metadata": {},
   "source": [
    "$$\n",
    "    L(f_\\lambda,x) = -\\ln(f_\\lambda(x))\n",
    "$$\n",
    "\n",
    "$$\n",
    "    E[L(f_\\lambda,x)] = E[-\\ln(f_\\lambda(x))]\n",
    "$$"
   ]
  },
  {
   "cell_type": "markdown",
   "metadata": {},
   "source": [
    "$$\n",
    "    \\hat R(\\lambda) = \\frac{1}{n} \\sum_{i=1}^n (- \\ln(f_\\lambda(X_i))\n",
    "$$"
   ]
  },
  {
   "cell_type": "markdown",
   "metadata": {},
   "source": [
    "$$\n",
    "    -\\ln(f_\\lambda(x)) = -\\ln(\\lambda) + \\lambda x\n",
    "$$"
   ]
  },
  {
   "cell_type": "code",
   "execution_count": 102,
   "metadata": {},
   "outputs": [],
   "source": [
    "np.random.shuffle(time_between_eq_arr)\n",
    "total_n = len(time_between_eq_arr)\n",
    "train_n = int(total_n*0.5)\n",
    "test_n = total_n-train_n\n",
    "\n",
    "train_data, test_data = (time_between_eq_arr[:train_n],time_between_eq_arr[train_n:])"
   ]
  },
  {
   "cell_type": "code",
   "execution_count": 103,
   "metadata": {},
   "outputs": [
    {
     "data": {
      "text/plain": [
       "array([3370.053,  346.423, 1003.69 , ...,  718.077,  280.379, 8105.033])"
      ]
     },
     "execution_count": 103,
     "metadata": {},
     "output_type": "execute_result"
    }
   ],
   "source": [
    "train_data"
   ]
  },
  {
   "cell_type": "code",
   "execution_count": 104,
   "metadata": {},
   "outputs": [
    {
     "data": {
      "text/plain": [
       "array([3549.283,  320.408, 1532.265, ..., 4354.282,  173.061, 1868.695])"
      ]
     },
     "execution_count": 104,
     "metadata": {},
     "output_type": "execute_result"
    }
   ],
   "source": [
    "test_data"
   ]
  },
  {
   "cell_type": "code",
   "execution_count": 107,
   "metadata": {},
   "outputs": [],
   "source": [
    "# define the objective/cost/loss function we want to minimise\n",
    "def empirical_risk_train(l):\n",
    "    return np.mean(-np.log(l)+l*train_data)"
   ]
  },
  {
   "cell_type": "code",
   "execution_count": 113,
   "metadata": {},
   "outputs": [
    {
     "data": {
      "text/plain": [
       "8.361204408610003"
      ]
     },
     "execution_count": 113,
     "metadata": {},
     "output_type": "execute_result"
    }
   ],
   "source": [
    "empirical_risk_train(0.001)"
   ]
  },
  {
   "cell_type": "code",
   "execution_count": 123,
   "metadata": {},
   "outputs": [
    {
     "data": {
      "text/plain": [
       "0.0006850000000000011"
      ]
     },
     "execution_count": 123,
     "metadata": {},
     "output_type": "execute_result"
    }
   ],
   "source": [
    "result = optimize.minimize(empirical_risk_train,0.0001,method='Nelder-Mead')\n",
    "l_hat = result['x'][0]\n",
    "l_hat"
   ]
  },
  {
   "cell_type": "code",
   "execution_count": 124,
   "metadata": {},
   "outputs": [
    {
     "data": {
      "text/plain": [
       "1459.8540145985378"
      ]
     },
     "execution_count": 124,
     "metadata": {},
     "output_type": "execute_result"
    }
   ],
   "source": [
    "1/l_hat"
   ]
  },
  {
   "cell_type": "markdown",
   "metadata": {},
   "source": [
    "Lets consider the loss\n",
    "$$\n",
    "    L(c,x) = |c-x|\n",
    "$$\n",
    "The risk then becomes\n",
    "$$\n",
    "    R(c) = E[L(c,x)] = E[|c-x|]\n",
    "$$"
   ]
  },
  {
   "cell_type": "markdown",
   "metadata": {},
   "source": [
    "So, for our problem, since we have estimated $\\hat \\lambda$ we can test it as a method of prediction by estimating the following quantity\n",
    "$$\n",
    "    E[|1/\\hat \\lambda - X| \\mid \\hat \\lambda]\n",
    "$$"
   ]
  },
  {
   "cell_type": "markdown",
   "metadata": {},
   "source": [
    "We could use our testing data to estimate the above, i.e.\n",
    "$$\n",
    "    \\frac{1}{n_{test}} \\sum_{X_i \\in \\text{ testing data}} |1/\\hat \\lambda - X_i|\n",
    "$$"
   ]
  },
  {
   "cell_type": "code",
   "execution_count": 129,
   "metadata": {},
   "outputs": [
    {
     "data": {
      "text/plain": [
       "1103.4427493567632"
      ]
     },
     "execution_count": 129,
     "metadata": {},
     "output_type": "execute_result"
    }
   ],
   "source": [
    "np.mean(np.abs(1/l_hat - test_data))"
   ]
  },
  {
   "cell_type": "code",
   "execution_count": 131,
   "metadata": {},
   "outputs": [
    {
     "data": {
      "text/plain": [
       "1094.115296106876"
      ]
     },
     "execution_count": 131,
     "metadata": {},
     "output_type": "execute_result"
    }
   ],
   "source": [
    "np.mean(np.abs(test_data-np.mean(test_data)))"
   ]
  },
  {
   "cell_type": "markdown",
   "metadata": {},
   "source": [
    "# Logistic Regression\n",
    "\n",
    "* Load the data\n",
    "* Separate the data into two parts\n",
    "* Scale the training data (standard scaling)\n",
    "* Convert labels to -1 1 for better numerics\n",
    "* Solve the minimal risk problem\n",
    "* Tranform the test data with the scaling of the train data\n",
    "* Test the model\n",
    "* Confidence interval around prediction"
   ]
  },
  {
   "cell_type": "code",
   "execution_count": null,
   "metadata": {},
   "outputs": [],
   "source": [
    "!head -n 10 data/CORIS.csv"
   ]
  },
  {
   "cell_type": "code",
   "execution_count": null,
   "metadata": {},
   "outputs": [],
   "source": [
    "# Load data\n",
    "# Standard scale\n",
    "# Convert labels to -1,1\n",
    "# Solve the likelihood problem"
   ]
  },
  {
   "cell_type": "code",
   "execution_count": null,
   "metadata": {},
   "outputs": [],
   "source": [
    "import numpy as np\n",
    "from scipy import optimize\n",
    "\n",
    "# define the objective/cost/loss function we want to minimise\n",
    "def f(x):\n",
    "    return np.sum(np.log(1+np.exp(-Y1*(x[0] + x[1]*X_sc[:,9]))))\n",
    "\n",
    "# multi-dimensional optimisation is syntactically similar to 1D, \n",
    "# but we are using Gradient and Hessian information from numerical evaluation of f to \n",
    "# iteratively improve the solution along the steepest direction, etc. \n",
    "# It 'LBFGS' method you will see in scientific computing\n",
    "parameter_bounding_box=((-10, 2), (-10, 2)) # specify the constraints for each parameter\n",
    "initial_arguments = np.array([0, 0]) # point in 2D to initialise the minimize algorithm\n",
    "result = optimize.minimize(f, initial_arguments, bounds=parameter_bounding_box,) # just call the minimize method!\n",
    "result"
   ]
  }
 ],
 "metadata": {
  "kernelspec": {
   "display_name": "Python 3 (ipykernel)",
   "language": "python",
   "name": "python3"
  },
  "language_info": {
   "codemirror_mode": {
    "name": "ipython",
    "version": 3
   },
   "file_extension": ".py",
   "mimetype": "text/x-python",
   "name": "python",
   "nbconvert_exporter": "python",
   "pygments_lexer": "ipython3",
   "version": "3.9.13"
  },
  "lx_course_instance": "2023",
  "lx_course_name": "Introduction to Data Science",
  "lx_course_number": "1MS041"
 },
 "nbformat": 4,
 "nbformat_minor": 5
}
