{
 "cells": [
  {
   "cell_type": "markdown",
   "metadata": {
    "deletable": false
   },
   "source": [
    "# [Introduction to Data Science](http://datascience-intro.github.io/1MS041-2023/)    \n",
    "## 1MS041, 2023 \n",
    "&copy;2023 Raazesh Sainudiin, Benny Avelin. [Attribution 4.0 International     (CC BY 4.0)](https://creativecommons.org/licenses/by/4.0/)"
   ]
  },
  {
   "cell_type": "markdown",
   "metadata": {},
   "source": [
    "# Estimation of mean\n",
    "\n",
    "* Load data\n",
    "* Make assumptions\n",
    "* Estimate mean\n",
    "* Write down confidence interval"
   ]
  },
  {
   "cell_type": "code",
   "execution_count": 66,
   "metadata": {},
   "outputs": [
    {
     "name": "stdout",
     "output_type": "stream",
     "text": [
      "CORIS.csv\n",
      "NYPowerBall.csv\n",
      "auto.csv\n",
      "co2_mm_mlo.txt\n",
      "digits.csv\n",
      "earthquakes.csv\n",
      "earthquakes.csv.zip\n",
      "earthquakes.tgz\n",
      "earthquakes_small.csv\n",
      "final.csv\n",
      "final.csv.zip\n",
      "final.tgz\n",
      "flights.csv\n",
      "indoor_train.csv\n",
      "leukemia.csv\n",
      "mammography.mat\n",
      "portland.csv\n",
      "pride_and_prejudice.txt\n",
      "rainfallInChristchurch.csv\n",
      "ratings.csv\n",
      "spam.csv\n",
      "visits_clean.csv\n"
     ]
    }
   ],
   "source": [
    "%%bash\n",
    "ls data"
   ]
  },
  {
   "cell_type": "code",
   "execution_count": 67,
   "metadata": {},
   "outputs": [
    {
     "name": "stdout",
     "output_type": "stream",
     "text": [
      "Draw Date,Winning Numbers,Multiplier\n",
      "02/09/2019,01 02 03 07 39 25,3\n"
     ]
    }
   ],
   "source": [
    "%%bash\n",
    "head -n 2 data/NYPowerBall.csv"
   ]
  },
  {
   "cell_type": "code",
   "execution_count": 68,
   "metadata": {},
   "outputs": [],
   "source": [
    "import csv\n",
    "\n",
    "with open(\"data/NYPowerBall.csv\",mode='r') as f:\n",
    "    reader = csv.reader(f)\n",
    "    header = next(reader)\n",
    "    #data = [i for i in reader]\n",
    "    data = list(reader)"
   ]
  },
  {
   "cell_type": "code",
   "execution_count": 69,
   "metadata": {},
   "outputs": [
    {
     "data": {
      "text/plain": [
       "[['02/09/2019', '01 02 03 07 39 25', '3'],\n",
       " ['02/06/2019', '05 13 28 38 63 21', '5']]"
      ]
     },
     "execution_count": 69,
     "metadata": {},
     "output_type": "execute_result"
    }
   ],
   "source": [
    "data[:2]"
   ]
  },
  {
   "cell_type": "code",
   "execution_count": 70,
   "metadata": {},
   "outputs": [],
   "source": [
    "list_list_list = [line[1].split(' ') for line in data]"
   ]
  },
  {
   "cell_type": "code",
   "execution_count": 71,
   "metadata": {},
   "outputs": [
    {
     "data": {
      "text/plain": [
       "[['01', '02', '03', '07', '39', '25'], ['05', '13', '28', '38', '63', '21']]"
      ]
     },
     "execution_count": 71,
     "metadata": {},
     "output_type": "execute_result"
    }
   ],
   "source": [
    "list_list_list[:2]"
   ]
  },
  {
   "cell_type": "code",
   "execution_count": 72,
   "metadata": {},
   "outputs": [],
   "source": [
    "flattened_list = sum(list_list_list,[])"
   ]
  },
  {
   "cell_type": "code",
   "execution_count": 73,
   "metadata": {},
   "outputs": [],
   "source": [
    "import numpy as  np\n",
    "list_list_list_arr = np.array(list_list_list)"
   ]
  },
  {
   "cell_type": "code",
   "execution_count": 75,
   "metadata": {},
   "outputs": [
    {
     "data": {
      "text/plain": [
       "(5646,)"
      ]
     },
     "execution_count": 75,
     "metadata": {},
     "output_type": "execute_result"
    }
   ],
   "source": [
    "list_list_list_arr.flatten().shape"
   ]
  },
  {
   "cell_type": "code",
   "execution_count": 77,
   "metadata": {},
   "outputs": [],
   "source": [
    "int_list = [int(i) for i in flattened_list]"
   ]
  },
  {
   "cell_type": "code",
   "execution_count": 78,
   "metadata": {},
   "outputs": [
    {
     "data": {
      "text/plain": [
       "[1, 2]"
      ]
     },
     "execution_count": 78,
     "metadata": {},
     "output_type": "execute_result"
    }
   ],
   "source": [
    "int_list[:2]"
   ]
  },
  {
   "cell_type": "code",
   "execution_count": 79,
   "metadata": {},
   "outputs": [],
   "source": [
    "int_arr = np.array(int_list)"
   ]
  },
  {
   "cell_type": "code",
   "execution_count": 80,
   "metadata": {},
   "outputs": [
    {
     "data": {
      "text/plain": [
       "(5646,)"
      ]
     },
     "execution_count": 80,
     "metadata": {},
     "output_type": "execute_result"
    }
   ],
   "source": [
    "int_arr.shape"
   ]
  },
  {
   "cell_type": "code",
   "execution_count": 81,
   "metadata": {},
   "outputs": [
    {
     "data": {
      "text/plain": [
       "69"
      ]
     },
     "execution_count": 81,
     "metadata": {},
     "output_type": "execute_result"
    }
   ],
   "source": [
    "np.max(int_arr)"
   ]
  },
  {
   "cell_type": "code",
   "execution_count": 82,
   "metadata": {},
   "outputs": [
    {
     "data": {
      "text/plain": [
       "1"
      ]
     },
     "execution_count": 82,
     "metadata": {},
     "output_type": "execute_result"
    }
   ],
   "source": [
    "np.min(int_arr)"
   ]
  },
  {
   "cell_type": "code",
   "execution_count": 84,
   "metadata": {},
   "outputs": [
    {
     "data": {
      "text/plain": [
       "69"
      ]
     },
     "execution_count": 84,
     "metadata": {},
     "output_type": "execute_result"
    }
   ],
   "source": [
    "len(np.unique(int_arr))"
   ]
  },
  {
   "cell_type": "markdown",
   "metadata": {},
   "source": [
    "### Assumption about data\n",
    "\n",
    "* IID (Independent and identically distributed), is this really true?\n",
    "* The n:th draw of the m:th trial is IID but not the n and n-1 for instance.\n",
    "* Discrete distribution with all numbers between 1 and 69.\n",
    "\n",
    "### What to do\n",
    "\n",
    "Compute confidence interval of what?\n",
    "* The mean of the first draw\n",
    "* Hoeffdings inequality, $a = 1$ and $b=69$"
   ]
  },
  {
   "cell_type": "code",
   "execution_count": 85,
   "metadata": {},
   "outputs": [],
   "source": [
    "reshaped_int_arr = int_arr.reshape(-1,6)"
   ]
  },
  {
   "cell_type": "code",
   "execution_count": 87,
   "metadata": {},
   "outputs": [],
   "source": [
    "first_draws = reshaped_int_arr[:,0]"
   ]
  },
  {
   "cell_type": "code",
   "execution_count": 94,
   "metadata": {},
   "outputs": [
    {
     "data": {
      "text/plain": [
       "[['01', '02', '03', '07', '39', '25'],\n",
       " ['05', '13', '28', '38', '63', '21'],\n",
       " ['10', '17', '18', '43', '65', '13'],\n",
       " ['02', '12', '16', '29', '54', '06'],\n",
       " ['08', '12', '20', '21', '32', '10'],\n",
       " ['23', '25', '47', '48', '50', '24'],\n",
       " ['05', '08', '41', '65', '66', '20'],\n",
       " ['14', '29', '31', '56', '61', '01'],\n",
       " ['07', '36', '48', '57', '58', '24'],\n",
       " ['06', '19', '37', '49', '59', '22']]"
      ]
     },
     "execution_count": 94,
     "metadata": {},
     "output_type": "execute_result"
    }
   ],
   "source": [
    "list_list_list[:10]"
   ]
  },
  {
   "cell_type": "code",
   "execution_count": 91,
   "metadata": {},
   "outputs": [
    {
     "data": {
      "text/plain": [
       "array([ 1,  2,  3,  4,  5,  6,  7,  8,  9, 10, 11, 12, 13, 14, 15, 16, 17,\n",
       "       18, 19, 20, 21, 22, 23, 24, 25, 26, 27, 28, 29, 30, 31, 32, 33, 34,\n",
       "       35, 36, 37, 38, 39, 40, 41, 43, 44, 48, 50])"
      ]
     },
     "execution_count": 91,
     "metadata": {},
     "output_type": "execute_result"
    }
   ],
   "source": [
    "np.unique(first_draws)"
   ]
  },
  {
   "cell_type": "code",
   "execution_count": 100,
   "metadata": {},
   "outputs": [
    {
     "data": {
      "text/plain": [
       "array([ 1,  2,  3,  4,  5,  6,  7,  8,  9, 10, 11, 12, 13, 14, 15, 16, 17,\n",
       "       18, 19, 20, 21, 22, 23, 24, 25, 26, 27, 28, 29, 30, 31, 32, 33, 34,\n",
       "       35, 36, 37, 38, 39])"
      ]
     },
     "execution_count": 100,
     "metadata": {},
     "output_type": "execute_result"
    }
   ],
   "source": [
    "# Double check\n",
    "np.unique([int(i[5]) for i in list_list_list])"
   ]
  },
  {
   "cell_type": "code",
   "execution_count": 101,
   "metadata": {},
   "outputs": [],
   "source": [
    "power_ball = reshaped_int_arr[:,-1]"
   ]
  },
  {
   "cell_type": "code",
   "execution_count": 102,
   "metadata": {},
   "outputs": [
    {
     "data": {
      "text/plain": [
       "17.14452709883103"
      ]
     },
     "execution_count": 102,
     "metadata": {},
     "output_type": "execute_result"
    }
   ],
   "source": [
    "power_ball_mean = np.mean(power_ball)\n",
    "power_ball_mean"
   ]
  },
  {
   "cell_type": "code",
   "execution_count": 103,
   "metadata": {},
   "outputs": [
    {
     "data": {
      "text/plain": [
       "19.5"
      ]
     },
     "execution_count": 103,
     "metadata": {},
     "output_type": "execute_result"
    }
   ],
   "source": [
    "39/2"
   ]
  },
  {
   "cell_type": "markdown",
   "metadata": {},
   "source": [
    "Hoeffdings inequality $P(X \\in [a,b]) = 1$\n",
    "$$\n",
    "    P(|\\overline{X}_n - E[X]| > \\epsilon) \\leq 2 e^{-\\frac{2 n \\epsilon^2}{(a-b)^2}}\n",
    "$$"
   ]
  },
  {
   "cell_type": "markdown",
   "metadata": {},
   "source": [
    "$$\n",
    "    \\alpha = 2 e^{-\\frac{2 n \\epsilon^2}{(a-b)^2}}\n",
    "$$\n",
    "\n",
    "$$\n",
    "    \\epsilon = \\sqrt{\\frac{(a-b)^2}{2n}\\ln(2/\\alpha)}\n",
    "$$"
   ]
  },
  {
   "cell_type": "code",
   "execution_count": 104,
   "metadata": {},
   "outputs": [],
   "source": [
    "def compute_epsilon(n,a,b,alpha):\n",
    "    return np.sqrt((a-b)**2/(2*n) * np.log(2/alpha))"
   ]
  },
  {
   "cell_type": "code",
   "execution_count": 105,
   "metadata": {},
   "outputs": [
    {
     "data": {
      "text/plain": [
       "1.6823680763069317"
      ]
     },
     "execution_count": 105,
     "metadata": {},
     "output_type": "execute_result"
    }
   ],
   "source": [
    "alpha = 0.05\n",
    "a = 1\n",
    "b = 39\n",
    "n = len(power_ball)\n",
    "epsilon = compute_epsilon(n,a,b,alpha)\n",
    "epsilon"
   ]
  },
  {
   "cell_type": "code",
   "execution_count": 106,
   "metadata": {},
   "outputs": [
    {
     "data": {
      "text/plain": [
       "(15.462159022524098, 18.826895175137963)"
      ]
     },
     "execution_count": 106,
     "metadata": {},
     "output_type": "execute_result"
    }
   ],
   "source": [
    "(power_ball_mean-epsilon,power_ball_mean+epsilon)"
   ]
  },
  {
   "cell_type": "code",
   "execution_count": 107,
   "metadata": {},
   "outputs": [
    {
     "data": {
      "text/plain": [
       "20.0"
      ]
     },
     "execution_count": 107,
     "metadata": {},
     "output_type": "execute_result"
    }
   ],
   "source": [
    "(39+1)/2"
   ]
  },
  {
   "cell_type": "code",
   "execution_count": 108,
   "metadata": {},
   "outputs": [
    {
     "data": {
      "image/png": "[encoded data removed]",
      "text/plain": [
       "<Figure size 640x480 with 1 Axes>"
      ]
     },
     "metadata": {},
     "output_type": "display_data"
    }
   ],
   "source": [
    "from Utils import discrete_histogram\n",
    "discrete_histogram(power_ball)"
   ]
  },
  {
   "cell_type": "markdown",
   "metadata": {},
   "source": [
    "# Likelihood of parameter\n",
    "\n",
    "* Load data\n",
    "* Work with dates\n",
    "* Make assumptions\n",
    "* Write down the Risk\n",
    "* Split into two parts\n",
    "* Minimize the risk numerically on train\n",
    "* Test the risk on test\n",
    "* Make confidence intervals"
   ]
  },
  {
   "cell_type": "code",
   "execution_count": 109,
   "metadata": {},
   "outputs": [
    {
     "name": "stdout",
     "output_type": "stream",
     "text": [
      "CORIS.csv\n",
      "NYPowerBall.csv\n",
      "auto.csv\n",
      "co2_mm_mlo.txt\n",
      "digits.csv\n",
      "earthquakes.csv\n",
      "earthquakes.csv.zip\n",
      "earthquakes.tgz\n",
      "earthquakes_small.csv\n",
      "final.csv\n",
      "final.csv.zip\n",
      "final.tgz\n",
      "flights.csv\n",
      "indoor_train.csv\n",
      "leukemia.csv\n",
      "mammography.mat\n",
      "portland.csv\n",
      "pride_and_prejudice.txt\n",
      "rainfallInChristchurch.csv\n",
      "ratings.csv\n",
      "spam.csv\n",
      "visits_clean.csv\n"
     ]
    }
   ],
   "source": [
    "%%bash\n",
    "ls data"
   ]
  },
  {
   "cell_type": "code",
   "execution_count": 111,
   "metadata": {},
   "outputs": [
    {
     "name": "stdout",
     "output_type": "stream",
     "text": [
      "publicid,eventtype,origintime,modificationtime,longitude, latitude, magnitude, depth,magnitudetype,depthtype,evaluationmethod,evaluationstatus,evaluationmode,earthmodel,usedphasecount,usedstationcount,magnitudestationcount,minimumdistance,azimuthalgap,originerror,magnitudeuncertainty\n",
      "2018p368955,,2018-05-17T12:19:35.516Z,2018-05-17T12:21:54.953Z,178.4653957,-37.51944533,2.209351541,20.9375,M,,NonLinLoc,,automatic,nz3drx,12,12,6,0.1363924727,261.0977462,0.8209633086,0\n"
     ]
    }
   ],
   "source": [
    "%%bash\n",
    "head -n 2 data/earthquakes.csv"
   ]
  },
  {
   "cell_type": "code",
   "execution_count": 115,
   "metadata": {},
   "outputs": [],
   "source": [
    "import csv\n",
    "\n",
    "with open(\"data/earthquakes.csv\",mode='r') as f:\n",
    "    reader = csv.reader(f,skipinitialspace=True)\n",
    "    header = next(reader)\n",
    "    #data = [i for i in reader]\n",
    "    data = list(reader)"
   ]
  },
  {
   "cell_type": "code",
   "execution_count": 128,
   "metadata": {},
   "outputs": [
    {
     "name": "stdout",
     "output_type": "stream",
     "text": [
      "origintime 2018-05-17T12:19:35.516Z\n"
     ]
    }
   ],
   "source": [
    "print(header[2],data[0][2])"
   ]
  },
  {
   "cell_type": "code",
   "execution_count": 124,
   "metadata": {},
   "outputs": [],
   "source": [
    "format_string = \"%Y-%m-%dT%H:%M:%S.%fZ\""
   ]
  },
  {
   "cell_type": "code",
   "execution_count": 127,
   "metadata": {},
   "outputs": [
    {
     "data": {
      "text/plain": [
       "datetime.datetime(2018, 5, 17, 12, 19, 35, 516000)"
      ]
     },
     "execution_count": 127,
     "metadata": {},
     "output_type": "execute_result"
    }
   ],
   "source": [
    "from datetime import datetime\n",
    "datetime.strptime(data[0][2],format_string)"
   ]
  },
  {
   "cell_type": "code",
   "execution_count": 129,
   "metadata": {},
   "outputs": [],
   "source": [
    "origin_time = [datetime.strptime(line[2],format_string) for line in data]"
   ]
  },
  {
   "cell_type": "code",
   "execution_count": 132,
   "metadata": {},
   "outputs": [
    {
     "data": {
      "text/plain": [
       "2470.87"
      ]
     },
     "execution_count": 132,
     "metadata": {},
     "output_type": "execute_result"
    }
   ],
   "source": [
    "(origin_time[0]-origin_time[1]).total_seconds()"
   ]
  },
  {
   "cell_type": "code",
   "execution_count": 133,
   "metadata": {},
   "outputs": [],
   "source": [
    "origin_time_arr = np.array(origin_time)"
   ]
  },
  {
   "cell_type": "code",
   "execution_count": 135,
   "metadata": {},
   "outputs": [],
   "source": [
    "sorted_origin_time = np.sort(origin_time_arr)"
   ]
  },
  {
   "cell_type": "code",
   "execution_count": 136,
   "metadata": {},
   "outputs": [
    {
     "data": {
      "text/plain": [
       "array([datetime.timedelta(seconds=530, microseconds=184000),\n",
       "       datetime.timedelta(seconds=551, microseconds=417000),\n",
       "       datetime.timedelta(seconds=764, microseconds=156000), ...,\n",
       "       datetime.timedelta(seconds=2700, microseconds=148000),\n",
       "       datetime.timedelta(seconds=3098, microseconds=120000),\n",
       "       datetime.timedelta(seconds=2470, microseconds=870000)],\n",
       "      dtype=object)"
      ]
     },
     "execution_count": 136,
     "metadata": {},
     "output_type": "execute_result"
    }
   ],
   "source": [
    "sorted_origin_time[1:]-sorted_origin_time[:-1]"
   ]
  },
  {
   "cell_type": "code",
   "execution_count": 138,
   "metadata": {},
   "outputs": [],
   "source": [
    "time_between = np.diff(sorted_origin_time)"
   ]
  },
  {
   "cell_type": "code",
   "execution_count": 139,
   "metadata": {},
   "outputs": [],
   "source": [
    "time_between_seconds = [time.total_seconds() for time in time_between]"
   ]
  },
  {
   "cell_type": "code",
   "execution_count": 143,
   "metadata": {},
   "outputs": [
    {
     "data": {
      "image/png": "[encoded data removed]",
      "text/plain": [
       "<Figure size 640x480 with 1 Axes>"
      ]
     },
     "metadata": {},
     "output_type": "display_data"
    }
   ],
   "source": [
    "import matplotlib.pyplot as plt\n",
    "_=plt.hist(time_between_seconds,bins=200)"
   ]
  },
  {
   "cell_type": "markdown",
   "metadata": {},
   "source": [
    "We construct the model space $\\mathcal{M} = \\{f_\\lambda(x) = \\lambda e^{-\\lambda x}: \\lambda > 0\\}$"
   ]
  },
  {
   "cell_type": "markdown",
   "metadata": {},
   "source": [
    "Now define the log-loss\n",
    "$$\n",
    "    L(f_\\lambda,x) = -\\ln(f_\\lambda(x))\n",
    "$$"
   ]
  },
  {
   "cell_type": "markdown",
   "metadata": {},
   "source": [
    "The risk is the expected loss\n",
    "$$\n",
    "    R(f_\\lambda) = E[L(f_\\lambda,X)]\n",
    "$$"
   ]
  },
  {
   "cell_type": "markdown",
   "metadata": {},
   "source": [
    "We instead minimize the empirical risk, given i.i.d. Data $X = \\{X_1,\\ldots,X_n\\}$\n",
    "$$\n",
    "    \\hat R_n(f_\\lambda) = \\frac{1}{n} \\sum_{i=1}^n L(f_\\lambda,X_i)\n",
    "$$"
   ]
  },
  {
   "cell_type": "markdown",
   "metadata": {},
   "source": [
    "The goal is to minimize $\\hat R_n(f_\\lambda)$ w.r.t. $\\lambda$. \n",
    "\n",
    "$$\n",
    "    \\ln(f_\\lambda) = \\ln(\\lambda) - \\lambda x\n",
    "$$"
   ]
  },
  {
   "cell_type": "markdown",
   "metadata": {},
   "source": [
    "$$\n",
    "    \\hat R_n(f_\\lambda) = \\frac{1}{n} \\sum_{i=1}^n (\\lambda X_i - \\ln(\\lambda))\n",
    "$$"
   ]
  },
  {
   "cell_type": "markdown",
   "metadata": {},
   "source": [
    "$$\n",
    "    \\frac{d}{d\\lambda} \n",
    "    \\hat R_n(f_\\lambda) = \\frac{1}{n} \\sum_{i=1}^n (X_i - 1/\\lambda)\n",
    "$$"
   ]
  },
  {
   "cell_type": "markdown",
   "metadata": {},
   "source": [
    "$$\n",
    "    \\frac{d}{d\\lambda} \n",
    "    \\hat R_n(f_\\lambda) = 0\n",
    "$$\n",
    "gives\n",
    "$$\n",
    "    1/\\hat \\lambda = \\frac{1}{n} \\sum_{i=1}^n X_i\n",
    "$$"
   ]
  },
  {
   "cell_type": "code",
   "execution_count": 146,
   "metadata": {},
   "outputs": [
    {
     "data": {
      "text/plain": [
       "[<matplotlib.lines.Line2D at 0x1165dfd30>]"
      ]
     },
     "execution_count": 146,
     "metadata": {},
     "output_type": "execute_result"
    },
    {
     "data": {
      "image/png": "[encoded data removed]",
      "text/plain": [
       "<Figure size 640x480 with 1 Axes>"
      ]
     },
     "metadata": {},
     "output_type": "display_data"
    }
   ],
   "source": [
    "import matplotlib.pyplot as plt\n",
    "_=plt.hist(time_between_seconds,bins=200,density=True)\n",
    "hat_lambda = 1/np.mean(time_between_seconds)\n",
    "x_plot = np.linspace(0,20000,100)\n",
    "plt.plot(x_plot,hat_lambda*np.exp(-hat_lambda*x_plot))"
   ]
  },
  {
   "cell_type": "markdown",
   "metadata": {},
   "source": [
    "Lets say I want to predict the time to next earthquake, lets say that we use our estimated $\\hat \\lambda$ to predict $1/\\hat \\lambda$."
   ]
  },
  {
   "cell_type": "markdown",
   "metadata": {},
   "source": [
    "Train, testing split. But for us, using the iid assumption we can just randomly split our dataset into two parts."
   ]
  },
  {
   "cell_type": "code",
   "execution_count": 147,
   "metadata": {},
   "outputs": [],
   "source": [
    "n_train = int(len(time_between_seconds)/2)\n",
    "train_set = time_between_seconds[:n_train]\n",
    "test_set = time_between_seconds[n_train:]"
   ]
  },
  {
   "cell_type": "code",
   "execution_count": 148,
   "metadata": {},
   "outputs": [],
   "source": [
    "hat_lambda_train = 1/np.mean(train_set)\n",
    "guess = 1/hat_lambda_train"
   ]
  },
  {
   "cell_type": "code",
   "execution_count": 149,
   "metadata": {},
   "outputs": [
    {
     "data": {
      "text/plain": [
       "1411.6221267726278"
      ]
     },
     "execution_count": 149,
     "metadata": {},
     "output_type": "execute_result"
    }
   ],
   "source": [
    "guess"
   ]
  },
  {
   "cell_type": "code",
   "execution_count": 152,
   "metadata": {},
   "outputs": [
    {
     "data": {
      "image/png": "[encoded data removed]",
      "text/plain": [
       "<Figure size 640x480 with 1 Axes>"
      ]
     },
     "metadata": {},
     "output_type": "display_data"
    }
   ],
   "source": [
    "_=plt.hist(np.abs(guess-test_set),bins=100)"
   ]
  },
  {
   "cell_type": "code",
   "execution_count": 153,
   "metadata": {},
   "outputs": [
    {
     "name": "stdout",
     "output_type": "stream",
     "text": [
      "1113.396468268911\n"
     ]
    }
   ],
   "source": [
    "average_error = np.mean(np.abs(guess-test_set))\n",
    "print(average_error)"
   ]
  }
 ],
 "metadata": {
  "kernelspec": {
   "display_name": "sage_new",
   "language": "python",
   "name": "python3"
  },
  "language_info": {
   "codemirror_mode": {
    "name": "ipython",
    "version": 3
   },
   "file_extension": ".py",
   "mimetype": "text/x-python",
   "name": "python",
   "nbconvert_exporter": "python",
   "pygments_lexer": "ipython3",
   "version": "3.9.13"
  },
  "lx_course_instance": "2023",
  "lx_course_name": "Introduction to Data Science",
  "lx_course_number": "1MS041"
 },
 "nbformat": 4,
 "nbformat_minor": 2
}
