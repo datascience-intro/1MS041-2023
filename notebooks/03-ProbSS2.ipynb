{
 "cells": [
  {
   "cell_type": "markdown",
   "metadata": {
    "deletable": false
   },
   "source": [
    "# [Introduction to Data Science](http://datascience-intro.github.io/1MS041-2023/)    \n",
    "## 1MS041, 2023 \n",
    "&copy;2023 Raazesh Sainudiin, Benny Avelin. [Attribution 4.0 International     (CC BY 4.0)](https://creativecommons.org/licenses/by/4.0/)"
   ]
  },
  {
   "cell_type": "code",
   "execution_count": 65,
   "metadata": {},
   "outputs": [],
   "source": [
    "from Utils import showURL"
   ]
  },
  {
   "cell_type": "code",
   "execution_count": 66,
   "metadata": {},
   "outputs": [
    {
     "data": {
      "text/html": [
       "\n",
       "        <iframe\n",
       "            width=\"95%\"\n",
       "            height=\"600\"\n",
       "            src=\"https://en.wikipedia.org/wiki/Continuous_uniform_distribution\"\n",
       "            frameborder=\"0\"\n",
       "            allowfullscreen\n",
       "            \n",
       "        ></iframe>\n",
       "        "
      ],
      "text/plain": [
       "<IPython.lib.display.IFrame at 0x16990bb80>"
      ]
     },
     "execution_count": 66,
     "metadata": {},
     "output_type": "execute_result"
    }
   ],
   "source": [
    "showURL(\"https://en.wikipedia.org/wiki/Continuous_uniform_distribution\")"
   ]
  },
  {
   "cell_type": "markdown",
   "metadata": {},
   "source": [
    "## Integrate the uniform distribution using Sympy and simulate"
   ]
  },
  {
   "cell_type": "code",
   "execution_count": 67,
   "metadata": {},
   "outputs": [],
   "source": [
    "from sympy import var, integrate"
   ]
  },
  {
   "cell_type": "code",
   "execution_count": 68,
   "metadata": {},
   "outputs": [],
   "source": [
    "a = var('a')\n",
    "b = var('b')\n",
    "x = var('x')"
   ]
  },
  {
   "cell_type": "code",
   "execution_count": 72,
   "metadata": {},
   "outputs": [],
   "source": [
    "f=1/(b-a)"
   ]
  },
  {
   "cell_type": "code",
   "execution_count": 76,
   "metadata": {},
   "outputs": [],
   "source": [
    "F_prim = integrate(f,x)"
   ]
  },
  {
   "cell_type": "code",
   "execution_count": 77,
   "metadata": {},
   "outputs": [
    {
     "data": {
      "text/latex": [
       "$\\displaystyle - \\frac{a}{- a + b} + \\frac{x}{- a + b}$"
      ],
      "text/plain": [
       "-a/(-a + b) + x/(-a + b)"
      ]
     },
     "execution_count": 77,
     "metadata": {},
     "output_type": "execute_result"
    }
   ],
   "source": [
    "# We need that F(a) = 0\n",
    "# F(a) = F_prim(a) + C\n",
    "# C = -F_prim(a)\n",
    "\n",
    "F = F_prim - a/(b-a)\n",
    "F"
   ]
  },
  {
   "cell_type": "markdown",
   "metadata": {},
   "source": [
    "We basically start by solving for $y$\n",
    "$$\n",
    "    F(x) = y\n",
    "$$\n",
    "This is solvable because F is strictly increasing at least in the interval $x \\in (a,b)$. "
   ]
  },
  {
   "cell_type": "markdown",
   "metadata": {},
   "source": [
    "$$\n",
    "    F(x) = y\n",
    "$$\n",
    "$$\n",
    "    \\frac{x-a}{b-a} = y\n",
    "$$"
   ]
  },
  {
   "cell_type": "markdown",
   "metadata": {},
   "source": [
    "$$\n",
    "    F^{-1}(y) = y(b-a)+a\n",
    "$$"
   ]
  },
  {
   "cell_type": "code",
   "execution_count": 78,
   "metadata": {},
   "outputs": [],
   "source": [
    "import numpy as np\n",
    "y = np.random.uniform(0,1,10000)\n",
    "x = y*(20-10)+10"
   ]
  },
  {
   "cell_type": "code",
   "execution_count": 79,
   "metadata": {},
   "outputs": [
    {
     "data": {
      "image/png": "[encoded data removed]",
      "text/plain": [
       "<Figure size 640x480 with 1 Axes>"
      ]
     },
     "metadata": {},
     "output_type": "display_data"
    }
   ],
   "source": [
    "import matplotlib.pyplot as plt\n",
    "_=plt.hist(x)"
   ]
  },
  {
   "cell_type": "markdown",
   "metadata": {},
   "source": [
    "## Inversion sampling"
   ]
  },
  {
   "cell_type": "markdown",
   "metadata": {},
   "source": [
    "Inversion sampling starts with a distribution function $F$. We want to simulate from $F$. We first compute $F^{-1}(y)$ and then we let $X$ be a uniform $(0,1)$ random variable and then we define\n",
    "$$\n",
    "    Y = F^{-1}(X)\n",
    "$$\n",
    "then $Y$ has distribution function $F$."
   ]
  },
  {
   "cell_type": "markdown",
   "metadata": {},
   "source": [
    "$$\n",
    "    F_Y(y) = P(Y \\leq y) = P(F^{-1}(X) \\leq y) = P(X \\leq F(y))\n",
    "$$\n",
    "Rename $F(y) = x$ then \n",
    "$$\n",
    "    P(X \\leq x) = F_X(x) = F_X(F(y))\n",
    "$$"
   ]
  },
  {
   "cell_type": "markdown",
   "metadata": {},
   "source": [
    "Since $X$ is uniform $(0,1)$ we have that $F_X(x) = x$ if $x \\in (0,1)$"
   ]
  },
  {
   "cell_type": "markdown",
   "metadata": {},
   "source": [
    "Conclusion is that $F_Y(y) = F(y)$."
   ]
  },
  {
   "cell_type": "markdown",
   "metadata": {},
   "source": [
    "## Integrating the exponential and inversion sampling"
   ]
  },
  {
   "cell_type": "code",
   "execution_count": 80,
   "metadata": {},
   "outputs": [
    {
     "data": {
      "text/html": [
       "\n",
       "        <iframe\n",
       "            width=\"95%\"\n",
       "            height=\"600\"\n",
       "            src=\"https://en.wikipedia.org/wiki/Exponential_distribution\"\n",
       "            frameborder=\"0\"\n",
       "            allowfullscreen\n",
       "            \n",
       "        ></iframe>\n",
       "        "
      ],
      "text/plain": [
       "<IPython.lib.display.IFrame at 0x11aab1cd0>"
      ]
     },
     "execution_count": 80,
     "metadata": {},
     "output_type": "execute_result"
    }
   ],
   "source": [
    "showURL(\"https://en.wikipedia.org/wiki/Exponential_distribution\")"
   ]
  },
  {
   "cell_type": "code",
   "execution_count": 81,
   "metadata": {},
   "outputs": [
    {
     "data": {
      "text/latex": [
       "$\\displaystyle \\lambda e^{- \\lambda x}$"
      ],
      "text/plain": [
       "lambda*exp(-lambda*x)"
      ]
     },
     "execution_count": 81,
     "metadata": {},
     "output_type": "execute_result"
    }
   ],
   "source": [
    "lam = var('lambda')\n",
    "x = var('x')\n",
    "from sympy import exp\n",
    "f = lam*exp(-lam*x)\n",
    "f"
   ]
  },
  {
   "cell_type": "code",
   "execution_count": 83,
   "metadata": {},
   "outputs": [],
   "source": [
    "F_prim = integrate(f,x)"
   ]
  },
  {
   "cell_type": "code",
   "execution_count": 84,
   "metadata": {},
   "outputs": [
    {
     "data": {
      "text/latex": [
       "$\\displaystyle - e^{- \\lambda x}$"
      ],
      "text/plain": [
       "-exp(-lambda*x)"
      ]
     },
     "execution_count": 84,
     "metadata": {},
     "output_type": "execute_result"
    }
   ],
   "source": [
    "F_prim"
   ]
  },
  {
   "cell_type": "code",
   "execution_count": null,
   "metadata": {},
   "outputs": [],
   "source": []
  },
  {
   "cell_type": "code",
   "execution_count": 85,
   "metadata": {},
   "outputs": [
    {
     "data": {
      "text/latex": [
       "$\\displaystyle 1 - e^{- \\lambda x}$"
      ],
      "text/plain": [
       "1 - exp(-lambda*x)"
      ]
     },
     "execution_count": 85,
     "metadata": {},
     "output_type": "execute_result"
    }
   ],
   "source": [
    "F = F_prim+1\n",
    "F"
   ]
  },
  {
   "cell_type": "markdown",
   "metadata": {},
   "source": [
    "$$\n",
    "    F(x) = y\n",
    "$$\n",
    "$$\n",
    "    1-e^{-\\lambda x} = y\n",
    "$$\n",
    "$$\n",
    "    1-y = e^{-\\lambda x}\n",
    "$$"
   ]
  },
  {
   "cell_type": "markdown",
   "metadata": {},
   "source": [
    "$$\n",
    "    \\ln(1-y)/(-\\lambda) =  x\n",
    "$$\n",
    "$$\n",
    "    F^{-1}(y) = \\frac{\\ln(1-y)}{-\\lambda}\n",
    "$$"
   ]
  },
  {
   "cell_type": "code",
   "execution_count": 86,
   "metadata": {},
   "outputs": [],
   "source": [
    "y = np.random.uniform(0,1,10000)\n",
    "x = np.log(1-y)/(-1)"
   ]
  },
  {
   "cell_type": "code",
   "execution_count": 89,
   "metadata": {},
   "outputs": [
    {
     "data": {
      "text/plain": [
       "[<matplotlib.lines.Line2D at 0x169c54520>]"
      ]
     },
     "execution_count": 89,
     "metadata": {},
     "output_type": "execute_result"
    },
    {
     "data": {
      "image/png": "[encoded data removed]",
      "text/plain": [
       "<Figure size 640x480 with 1 Axes>"
      ]
     },
     "metadata": {},
     "output_type": "display_data"
    }
   ],
   "source": [
    "_=plt.hist(x,bins=100,density=True)\n",
    "x_plot = np.linspace(0,9,100)\n",
    "plt.plot(x_plot,np.exp(-x_plot))"
   ]
  },
  {
   "cell_type": "markdown",
   "metadata": {},
   "source": [
    "## Loading the co2 data and plotting"
   ]
  },
  {
   "cell_type": "code",
   "execution_count": 90,
   "metadata": {},
   "outputs": [
    {
     "name": "stdout",
     "output_type": "stream",
     "text": [
      "CORIS.csv\n",
      "NYPowerBall.csv\n",
      "auto.csv\n",
      "co2_mm_mlo.txt\n",
      "digits.csv\n",
      "earthquakes.csv\n",
      "earthquakes.csv.zip\n",
      "earthquakes.tgz\n",
      "earthquakes_small.csv\n",
      "final.csv\n",
      "final.csv.zip\n",
      "final.tgz\n",
      "flights.csv\n",
      "indoor_train.csv\n",
      "leukemia.csv\n",
      "mammography.mat\n",
      "portland.csv\n",
      "pride_and_prejudice.txt\n",
      "rainfallInChristchurch.csv\n",
      "ratings.csv\n",
      "spam.csv\n"
     ]
    }
   ],
   "source": [
    "%%bash\n",
    "ls data"
   ]
  },
  {
   "cell_type": "code",
   "execution_count": 93,
   "metadata": {},
   "outputs": [
    {
     "name": "stdout",
     "output_type": "stream",
     "text": [
      "# --------------------------------------------------------------------\n",
      "# USE OF NOAA ESRL DATA\n",
      "# \n",
      "# These data are made freely available to the public and the\n",
      "# scientific community in the belief that their wide dissemination\n",
      "# will lead to greater understanding and new scientific insights.\n",
      "# The availability of these data does not constitute publication\n",
      "# of the data.  NOAA relies on the ethics and integrity of the user to\n",
      "# ensure that ESRL receives fair credit for their work.  If the data \n",
      "# are obtained for potential use in a publication or presentation, \n",
      "# ESRL should be informed at the outset of the nature of this work.  \n",
      "# If the ESRL data are essential to the work, or if an important \n",
      "# result or conclusion depends on the ESRL data, co-authorship\n",
      "# may be appropriate.  This should be discussed at an early stage in\n",
      "# the work.  Manuscripts using the ESRL data should be sent to ESRL\n",
      "# for review before they are submitted for publication so we can\n",
      "# insure that the quality and limitations of the data are accurately\n",
      "# represented.\n",
      "# \n",
      "# Contact:   Pieter Tans (303 497 6678; pieter.tans@noaa.gov)\n",
      "# \n",
      "# File Creation:  Thu Dec  6 13:26:20 2018\n",
      "# \n",
      "# RECIPROCITY\n",
      "# \n",
      "# Use of these data implies an agreement to reciprocate.\n",
      "# Laboratories making similar measurements agree to make their\n",
      "# own data available to the general public and to the scientific\n",
      "# community in an equally complete and easily accessible form.\n",
      "# Modelers are encouraged to make available to the community,\n",
      "# upon request, their own tools used in the interpretation\n",
      "# of the ESRL data, namely well documented model code, transport\n",
      "# fields, and additional information necessary for other\n",
      "# scientists to repeat the work and to run modified versions.\n",
      "# Model availability includes collaborative support for new\n",
      "# users of the models.\n",
      "# --------------------------------------------------------------------\n",
      "#  \n",
      "#  \n",
      "# See www.esrl.noaa.gov/gmd/ccgg/trends/ for additional details.\n",
      "#  \n",
      "# Data from March 1958 through April 1974 have been obtained by C. David Keeling\n",
      "# of the Scripps Institution of Oceanography (SIO) and were obtained from the\n",
      "# Scripps website (scrippsco2.ucsd.edu).\n",
      "#\n",
      "# The \"average\" column contains the monthly mean CO2 mole fraction determined\n",
      "# from daily averages.  The mole fraction of CO2, expressed as parts per million\n",
      "# (ppm) is the number of molecules of CO2 in every one million molecules of dried\n",
      "# air (water vapor removed).  If there are missing days concentrated either early\n",
      "# or late in the month, the monthly mean is corrected to the middle of the month\n",
      "# using the average seasonal cycle.  Missing months are denoted by -99.99.\n",
      "# The \"interpolated\" column includes average values from the preceding column\n",
      "# and interpolated values where data are missing.  Interpolated values are\n",
      "# computed in two steps.  First, we compute for each month the average seasonal\n",
      "# cycle in a 7-year window around each monthly value.  In this way the seasonal\n",
      "# cycle is allowed to change slowly over time.  We then determine the \"trend\"\n",
      "# value for each month by removing the seasonal cycle; this result is shown in\n",
      "# the \"trend\" column.  Trend values are linearly interpolated for missing months.\n",
      "# The interpolated monthly mean is then the sum of the average seasonal cycle\n",
      "# value and the trend value for the missing month.\n",
      "#\n",
      "# NOTE: In general, the data presented for the last year are subject to change, \n",
      "# depending on recalibration of the reference gas mixtures used, and other quality\n",
      "# control procedures. Occasionally, earlier years may also be changed for the same\n",
      "# reasons.  Usually these changes are minor.\n",
      "#\n",
      "# CO2 expressed as a mole fraction in dry air, micromol/mol, abbreviated as ppm\n",
      "#\n",
      "#  (-99.99 missing data;  -1 no data for #daily means in month)\n",
      "#\n",
      "#            decimal     average   interpolated    trend    #days\n",
      "#             date                             (season corr)\n",
      "1958   3    1958.208      315.71      315.71      314.62     -1\n",
      "1958   4    1958.292      317.45      317.45      315.29     -1\n",
      "1958   5    1958.375      317.50      317.50      314.71     -1\n",
      "1958   6    1958.458      -99.99      317.10      314.85     -1\n",
      "1958   7    1958.542      315.86      315.86      314.98     -1\n",
      "1958   8    1958.625      314.93      314.93      315.94     -1\n",
      "1958   9    1958.708      313.20      313.20      315.91     -1\n",
      "1958  10    1958.792      -99.99      312.66      315.61     -1\n",
      "1958  11    1958.875      313.33      313.33      315.31     -1\n",
      "1958  12    1958.958      314.67      314.67      315.61     -1\n",
      "1959   1    1959.042      315.62      315.62      315.70     -1\n",
      "1959   2    1959.125      316.38      316.38      315.88     -1\n",
      "1959   3    1959.208      316.71      316.71      315.62     -1\n",
      "1959   4    1959.292      317.72      317.72      315.56     -1\n",
      "1959   5    1959.375      318.29      318.29      315.50     -1\n",
      "1959   6    1959.458      318.15      318.15      315.92     -1\n",
      "1959   7    1959.542      316.54      316.54      315.66     -1\n",
      "1959   8    1959.625      314.80      314.80      315.81     -1\n",
      "1959   9    1959.708      313.84      313.84      316.55     -1\n",
      "1959  10    1959.792      313.26      313.26      316.19     -1\n",
      "1959  11    1959.875      314.80      314.80      316.78     -1\n",
      "1959  12    1959.958      315.58      315.58      316.52     -1\n",
      "1960   1    1960.042      316.43      316.43      316.51     -1\n",
      "1960   2    1960.125      316.97      316.97      316.47     -1\n",
      "1960   3    1960.208      317.58      317.58      316.49     -1\n",
      "1960   4    1960.292      319.02      319.02      316.86     -1\n",
      "1960   5    1960.375      320.03      320.03      317.24     -1\n",
      "1960   6    1960.458      319.59      319.59      317.36     -1\n"
     ]
    }
   ],
   "source": [
    "%%bash\n",
    "head -n 100 data/co2_mm_mlo.txt"
   ]
  },
  {
   "cell_type": "code",
   "execution_count": 94,
   "metadata": {},
   "outputs": [
    {
     "name": "stdout",
     "output_type": "stream",
     "text": [
      "1958   3    1958.208      315.71      315.71      314.62     -1\n",
      "\n"
     ]
    }
   ],
   "source": [
    "with open(\"data/co2_mm_mlo.txt\",mode=\"r\") as f:\n",
    "    current_line = f.readline()\n",
    "    while (current_line[0] == '#'):\n",
    "        current_line = f.readline()\n",
    "    print(current_line)"
   ]
  },
  {
   "cell_type": "code",
   "execution_count": 99,
   "metadata": {},
   "outputs": [],
   "source": [
    "import csv\n",
    "data_raw = []\n",
    "with open(\"data/co2_mm_mlo.txt\",mode=\"r\") as f:\n",
    "    current_pos = f.tell()\n",
    "    current_line = f.readline()\n",
    "    while (current_line[0] == '#'):\n",
    "        current_pos = f.tell()\n",
    "        current_line = f.readline()\n",
    "    f.seek(current_pos)\n",
    "    csv_reader = csv.reader(f,delimiter=' ',skipinitialspace=True)\n",
    "    for line in csv_reader:\n",
    "        data_raw.append(line)"
   ]
  },
  {
   "cell_type": "code",
   "execution_count": 100,
   "metadata": {},
   "outputs": [
    {
     "data": {
      "text/plain": [
       "['1958', '3', '1958.208', '315.71', '315.71', '314.62', '-1']"
      ]
     },
     "execution_count": 100,
     "metadata": {},
     "output_type": "execute_result"
    }
   ],
   "source": [
    "data_raw[0]"
   ]
  },
  {
   "cell_type": "code",
   "execution_count": 101,
   "metadata": {},
   "outputs": [
    {
     "data": {
      "text/plain": [
       "729"
      ]
     },
     "execution_count": 101,
     "metadata": {},
     "output_type": "execute_result"
    }
   ],
   "source": [
    "len(data_raw)"
   ]
  },
  {
   "cell_type": "markdown",
   "metadata": {},
   "source": [
    "### What is a schema?"
   ]
  },
  {
   "cell_type": "code",
   "execution_count": 102,
   "metadata": {},
   "outputs": [],
   "source": [
    "schema = [int, int, float, float, float, float, int]"
   ]
  },
  {
   "cell_type": "code",
   "execution_count": 104,
   "metadata": {},
   "outputs": [
    {
     "data": {
      "text/plain": [
       "int"
      ]
     },
     "execution_count": 104,
     "metadata": {},
     "output_type": "execute_result"
    }
   ],
   "source": [
    "type(int(\"123\"))"
   ]
  },
  {
   "cell_type": "code",
   "execution_count": 105,
   "metadata": {},
   "outputs": [],
   "source": [
    "data_parsed = [[typ(item) for item,typ in zip(line,schema)] for line in data_raw]"
   ]
  },
  {
   "cell_type": "code",
   "execution_count": 106,
   "metadata": {},
   "outputs": [
    {
     "data": {
      "text/plain": [
       "[1958, 3, 1958.208, 315.71, 315.71, 314.62, -1]"
      ]
     },
     "execution_count": 106,
     "metadata": {},
     "output_type": "execute_result"
    }
   ],
   "source": [
    "data_parsed[0]"
   ]
  },
  {
   "cell_type": "markdown",
   "metadata": {},
   "source": [
    "### Loading data into a numpy array and types"
   ]
  },
  {
   "cell_type": "code",
   "execution_count": 107,
   "metadata": {},
   "outputs": [],
   "source": [
    "data_array = np.array(data_parsed)"
   ]
  },
  {
   "cell_type": "code",
   "execution_count": 110,
   "metadata": {},
   "outputs": [
    {
     "data": {
      "text/plain": [
       "(729, 7)"
      ]
     },
     "execution_count": 110,
     "metadata": {},
     "output_type": "execute_result"
    }
   ],
   "source": [
    "data_array.shape"
   ]
  },
  {
   "cell_type": "code",
   "execution_count": 111,
   "metadata": {},
   "outputs": [
    {
     "data": {
      "text/plain": [
       "1958.0"
      ]
     },
     "execution_count": 111,
     "metadata": {},
     "output_type": "execute_result"
    }
   ],
   "source": [
    "data_array[0,0]"
   ]
  },
  {
   "cell_type": "markdown",
   "metadata": {},
   "source": [
    "### Some basic stats using the Utils package"
   ]
  },
  {
   "cell_type": "code",
   "execution_count": 112,
   "metadata": {},
   "outputs": [
    {
     "name": "stdout",
     "output_type": "stream",
     "text": [
      "mean: 353.79\tstd: 27.53\tskew: 0.34\tkurtosis: 1.93\n"
     ]
    }
   ],
   "source": [
    "# Basic stats\n",
    "from Utils import basic_stats\n",
    "basic_stats(data_array[:,4])"
   ]
  },
  {
   "cell_type": "code",
   "execution_count": 117,
   "metadata": {},
   "outputs": [
    {
     "data": {
      "text/plain": [
       "array([315.71, 317.45, 317.5 , 317.1 , 315.86, 314.93, 313.2 , 312.66,\n",
       "       313.33, 314.67])"
      ]
     },
     "execution_count": 117,
     "metadata": {},
     "output_type": "execute_result"
    }
   ],
   "source": [
    "data_array[0:10,4]"
   ]
  },
  {
   "cell_type": "code",
   "execution_count": 119,
   "metadata": {},
   "outputs": [
    {
     "name": "stdout",
     "output_type": "stream",
     "text": [
      "mean: -0.02\tstd: 27.70\tskew: 0.01\tkurtosis: 3.01\n"
     ]
    }
   ],
   "source": [
    "x = np.random.normal(0,27.53,10000)\n",
    "basic_stats(x)"
   ]
  },
  {
   "cell_type": "code",
   "execution_count": 124,
   "metadata": {},
   "outputs": [
    {
     "data": {
      "image/png": "[encoded data removed]",
      "text/plain": [
       "<Figure size 640x480 with 1 Axes>"
      ]
     },
     "metadata": {},
     "output_type": "display_data"
    }
   ],
   "source": [
    "_=plt.hist(data_array[:,4],bins=50)"
   ]
  },
  {
   "cell_type": "code",
   "execution_count": 125,
   "metadata": {},
   "outputs": [
    {
     "data": {
      "image/png": "[encoded data removed]",
      "text/plain": [
       "<Figure size 640x480 with 1 Axes>"
      ]
     },
     "metadata": {},
     "output_type": "display_data"
    }
   ],
   "source": [
    "# EDF\n",
    "from Utils import makeEDF, plotEDF\n",
    "plotEDF(makeEDF(data_array[:,4]))"
   ]
  }
 ],
 "metadata": {
  "kernelspec": {
   "display_name": "sage_new",
   "language": "python",
   "name": "python3"
  },
  "language_info": {
   "codemirror_mode": {
    "name": "ipython",
    "version": 3
   },
   "file_extension": ".py",
   "mimetype": "text/x-python",
   "name": "python",
   "nbconvert_exporter": "python",
   "pygments_lexer": "ipython3",
   "version": "3.9.13"
  },
  "lx_course_instance": "2023",
  "lx_course_name": "Introduction to Data Science",
  "lx_course_number": "1MS041"
 },
 "nbformat": 4,
 "nbformat_minor": 2
}
