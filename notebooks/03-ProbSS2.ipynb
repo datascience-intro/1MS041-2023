{
 "cells": [
  {
   "cell_type": "markdown",
   "metadata": {
    "deletable": false
   },
   "source": [
    "# [Introduction to Data Science](http://datascience-intro.github.io/1MS041-2023/)    \n",
    "## 1MS041, 2023 \n",
    "&copy;2023 Raazesh Sainudiin, Benny Avelin. [Attribution 4.0 International     (CC BY 4.0)](https://creativecommons.org/licenses/by/4.0/)"
   ]
  },
  {
   "cell_type": "code",
   "execution_count": 1,
   "metadata": {},
   "outputs": [],
   "source": [
    "from Utils import showURL"
   ]
  },
  {
   "cell_type": "code",
   "execution_count": 2,
   "metadata": {},
   "outputs": [
    {
     "data": {
      "text/html": [
       "\n",
       "        <iframe\n",
       "            width=\"95%\"\n",
       "            height=\"600\"\n",
       "            src=\"https://en.wikipedia.org/wiki/Normal_distribution\"\n",
       "            frameborder=\"0\"\n",
       "            allowfullscreen\n",
       "            \n",
       "        ></iframe>\n",
       "        "
      ],
      "text/plain": [
       "<IPython.lib.display.IFrame at 0x10d6db820>"
      ]
     },
     "execution_count": 2,
     "metadata": {},
     "output_type": "execute_result"
    }
   ],
   "source": [
    "showURL('https://en.wikipedia.org/wiki/Normal_distribution')"
   ]
  },
  {
   "cell_type": "code",
   "execution_count": 3,
   "metadata": {},
   "outputs": [],
   "source": [
    "import numpy as np"
   ]
  },
  {
   "cell_type": "code",
   "execution_count": 4,
   "metadata": {},
   "outputs": [],
   "source": [
    "lam = 2"
   ]
  },
  {
   "cell_type": "markdown",
   "metadata": {},
   "source": [
    "$$f(x) = \\lambda*e^{-\\lambda x}$$"
   ]
  },
  {
   "cell_type": "code",
   "execution_count": 5,
   "metadata": {},
   "outputs": [],
   "source": [
    "from sympy import var, integrate, exp"
   ]
  },
  {
   "cell_type": "code",
   "execution_count": 6,
   "metadata": {},
   "outputs": [],
   "source": [
    "l = var('l')\n",
    "x = var('x')"
   ]
  },
  {
   "cell_type": "code",
   "execution_count": 7,
   "metadata": {},
   "outputs": [
    {
     "data": {
      "text/latex": [
       "$\\displaystyle l e^{- l x}$"
      ],
      "text/plain": [
       "l*exp(-l*x)"
      ]
     },
     "execution_count": 7,
     "metadata": {},
     "output_type": "execute_result"
    }
   ],
   "source": [
    "f = l*exp(-l*x)\n",
    "f"
   ]
  },
  {
   "cell_type": "code",
   "execution_count": 8,
   "metadata": {},
   "outputs": [],
   "source": [
    "y = var('y')\n",
    "f_y = integrate(f,(x,0,y))"
   ]
  },
  {
   "cell_type": "code",
   "execution_count": 9,
   "metadata": {},
   "outputs": [
    {
     "data": {
      "text/latex": [
       "$\\displaystyle 1 - e^{- l y}$"
      ],
      "text/plain": [
       "1 - exp(-l*y)"
      ]
     },
     "execution_count": 9,
     "metadata": {},
     "output_type": "execute_result"
    }
   ],
   "source": [
    "f_y"
   ]
  },
  {
   "cell_type": "code",
   "execution_count": 10,
   "metadata": {},
   "outputs": [],
   "source": [
    "from sympy import solve"
   ]
  },
  {
   "cell_type": "code",
   "execution_count": 13,
   "metadata": {},
   "outputs": [],
   "source": [
    "# -(1/l)*ln(-x+1) = y"
   ]
  },
  {
   "cell_type": "code",
   "execution_count": 14,
   "metadata": {},
   "outputs": [],
   "source": [
    "x = np.random.uniform(0,1,10000)"
   ]
  },
  {
   "cell_type": "code",
   "execution_count": 15,
   "metadata": {},
   "outputs": [],
   "source": [
    "y = -(1/lam)*np.log(-x+1)"
   ]
  },
  {
   "cell_type": "code",
   "execution_count": 16,
   "metadata": {},
   "outputs": [
    {
     "data": {
      "text/plain": [
       "[<matplotlib.lines.Line2D at 0x161693a60>]"
      ]
     },
     "execution_count": 16,
     "metadata": {},
     "output_type": "execute_result"
    },
    {
     "data": {
      "image/png": "[encoded data removed]",
      "text/plain": [
       "<Figure size 640x480 with 1 Axes>"
      ]
     },
     "metadata": {},
     "output_type": "display_data"
    }
   ],
   "source": [
    "import matplotlib.pyplot as plt\n",
    "_=plt.hist(y,density=True,bins=100)\n",
    "z = np.linspace(0,4,100)\n",
    "plt.plot(z,lam*np.exp(-lam*z))"
   ]
  },
  {
   "cell_type": "code",
   "execution_count": null,
   "metadata": {},
   "outputs": [],
   "source": []
  },
  {
   "cell_type": "code",
   "execution_count": 17,
   "metadata": {},
   "outputs": [
    {
     "data": {
      "text/html": [
       "\n",
       "        <iframe\n",
       "            width=\"95%\"\n",
       "            height=\"600\"\n",
       "            src=\"https://www.sympy.org/en/index.html\"\n",
       "            frameborder=\"0\"\n",
       "            allowfullscreen\n",
       "            \n",
       "        ></iframe>\n",
       "        "
      ],
      "text/plain": [
       "<IPython.lib.display.IFrame at 0x110228910>"
      ]
     },
     "execution_count": 17,
     "metadata": {},
     "output_type": "execute_result"
    }
   ],
   "source": [
    "showURL('https://www.sympy.org/en/index.html')"
   ]
  },
  {
   "cell_type": "code",
   "execution_count": 18,
   "metadata": {},
   "outputs": [
    {
     "name": "stdout",
     "output_type": "stream",
     "text": [
      "CORIS.csv                  final.csv.zip\r\n",
      "NYPowerBall.csv            final.tgz\r\n",
      "co2_mm_mlo.txt             flights.csv\r\n",
      "digits.csv                 leukemia.csv\r\n",
      "earthquakes.csv            portland.csv\r\n",
      "earthquakes.csv.zip        pride_and_prejudice.txt\r\n",
      "earthquakes.tgz            rainfallInChristchurch.csv\r\n",
      "earthquakes_small.csv      ratings.csv\r\n",
      "final.csv                  spam.csv\r\n"
     ]
    }
   ],
   "source": [
    "!ls data"
   ]
  },
  {
   "cell_type": "code",
   "execution_count": 19,
   "metadata": {},
   "outputs": [
    {
     "name": "stdout",
     "output_type": "stream",
     "text": [
      "# --------------------------------------------------------------------\r\n",
      "# USE OF NOAA ESRL DATA\r\n",
      "# \r\n",
      "# These data are made freely available to the public and the\r\n",
      "# scientific community in the belief that their wide dissemination\r\n",
      "# will lead to greater understanding and new scientific insights.\r\n",
      "# The availability of these data does not constitute publication\r\n",
      "# of the data.  NOAA relies on the ethics and integrity of the user to\r\n",
      "# ensure that ESRL receives fair credit for their work.  If the data \r\n",
      "# are obtained for potential use in a publication or presentation, \r\n",
      "# ESRL should be informed at the outset of the nature of this work.  \r\n",
      "# If the ESRL data are essential to the work, or if an important \r\n",
      "# result or conclusion depends on the ESRL data, co-authorship\r\n",
      "# may be appropriate.  This should be discussed at an early stage in\r\n",
      "# the work.  Manuscripts using the ESRL data should be sent to ESRL\r\n",
      "# for review before they are submitted for publication so we can\r\n",
      "# insure that the quality and limitations of the data are accurately\r\n",
      "# represented.\r\n",
      "# \r\n",
      "# Contact:   Pieter Tans (303 497 6678; pieter.tans@noaa.gov)\r\n",
      "# \r\n",
      "# File Creation:  Thu Dec  6 13:26:20 2018\r\n",
      "# \r\n",
      "# RECIPROCITY\r\n",
      "# \r\n",
      "# Use of these data implies an agreement to reciprocate.\r\n",
      "# Laboratories making similar measurements agree to make their\r\n",
      "# own data available to the general public and to the scientific\r\n",
      "# community in an equally complete and easily accessible form.\r\n",
      "# Modelers are encouraged to make available to the community,\r\n",
      "# upon request, their own tools used in the interpretation\r\n",
      "# of the ESRL data, namely well documented model code, transport\r\n",
      "# fields, and additional information necessary for other\r\n",
      "# scientists to repeat the work and to run modified versions.\r\n",
      "# Model availability includes collaborative support for new\r\n",
      "# users of the models.\r\n",
      "# --------------------------------------------------------------------\r\n",
      "#  \r\n",
      "#  \r\n",
      "# See www.esrl.noaa.gov/gmd/ccgg/trends/ for additional details.\r\n",
      "#  \r\n",
      "# Data from March 1958 through April 1974 have been obtained by C. David Keeling\r\n",
      "# of the Scripps Institution of Oceanography (SIO) and were obtained from the\r\n",
      "# Scripps website (scrippsco2.ucsd.edu).\r\n",
      "#\r\n",
      "# The \"average\" column contains the monthly mean CO2 mole fraction determined\r\n",
      "# from daily averages.  The mole fraction of CO2, expressed as parts per million\r\n",
      "# (ppm) is the number of molecules of CO2 in every one million molecules of dried\r\n",
      "# air (water vapor removed).  If there are missing days concentrated either early\r\n",
      "# or late in the month, the monthly mean is corrected to the middle of the month\r\n",
      "# using the average seasonal cycle.  Missing months are denoted by -99.99.\r\n",
      "# The \"interpolated\" column includes average values from the preceding column\r\n",
      "# and interpolated values where data are missing.  Interpolated values are\r\n",
      "# computed in two steps.  First, we compute for each month the average seasonal\r\n",
      "# cycle in a 7-year window around each monthly value.  In this way the seasonal\r\n",
      "# cycle is allowed to change slowly over time.  We then determine the \"trend\"\r\n",
      "# value for each month by removing the seasonal cycle; this result is shown in\r\n",
      "# the \"trend\" column.  Trend values are linearly interpolated for missing months.\r\n",
      "# The interpolated monthly mean is then the sum of the average seasonal cycle\r\n",
      "# value and the trend value for the missing month.\r\n",
      "#\r\n",
      "# NOTE: In general, the data presented for the last year are subject to change, \r\n",
      "# depending on recalibration of the reference gas mixtures used, and other quality\r\n",
      "# control procedures. Occasionally, earlier years may also be changed for the same\r\n",
      "# reasons.  Usually these changes are minor.\r\n",
      "#\r\n",
      "# CO2 expressed as a mole fraction in dry air, micromol/mol, abbreviated as ppm\r\n",
      "#\r\n",
      "#  (-99.99 missing data;  -1 no data for #daily means in month)\r\n",
      "#\r\n",
      "#            decimal     average   interpolated    trend    #days\r\n",
      "#             date                             (season corr)\r\n",
      "1958   3    1958.208      315.71      315.71      314.62     -1\r\n",
      "1958   4    1958.292      317.45      317.45      315.29     -1\r\n",
      "1958   5    1958.375      317.50      317.50      314.71     -1\r\n",
      "1958   6    1958.458      -99.99      317.10      314.85     -1\r\n",
      "1958   7    1958.542      315.86      315.86      314.98     -1\r\n",
      "1958   8    1958.625      314.93      314.93      315.94     -1\r\n",
      "1958   9    1958.708      313.20      313.20      315.91     -1\r\n",
      "1958  10    1958.792      -99.99      312.66      315.61     -1\r\n",
      "1958  11    1958.875      313.33      313.33      315.31     -1\r\n",
      "1958  12    1958.958      314.67      314.67      315.61     -1\r\n",
      "1959   1    1959.042      315.62      315.62      315.70     -1\r\n",
      "1959   2    1959.125      316.38      316.38      315.88     -1\r\n",
      "1959   3    1959.208      316.71      316.71      315.62     -1\r\n",
      "1959   4    1959.292      317.72      317.72      315.56     -1\r\n",
      "1959   5    1959.375      318.29      318.29      315.50     -1\r\n",
      "1959   6    1959.458      318.15      318.15      315.92     -1\r\n",
      "1959   7    1959.542      316.54      316.54      315.66     -1\r\n",
      "1959   8    1959.625      314.80      314.80      315.81     -1\r\n",
      "1959   9    1959.708      313.84      313.84      316.55     -1\r\n",
      "1959  10    1959.792      313.26      313.26      316.19     -1\r\n",
      "1959  11    1959.875      314.80      314.80      316.78     -1\r\n",
      "1959  12    1959.958      315.58      315.58      316.52     -1\r\n",
      "1960   1    1960.042      316.43      316.43      316.51     -1\r\n",
      "1960   2    1960.125      316.97      316.97      316.47     -1\r\n",
      "1960   3    1960.208      317.58      317.58      316.49     -1\r\n",
      "1960   4    1960.292      319.02      319.02      316.86     -1\r\n",
      "1960   5    1960.375      320.03      320.03      317.24     -1\r\n",
      "1960   6    1960.458      319.59      319.59      317.36     -1\r\n"
     ]
    }
   ],
   "source": [
    "!head -n 100 data/co2_mm_mlo.txt"
   ]
  },
  {
   "cell_type": "code",
   "execution_count": 20,
   "metadata": {},
   "outputs": [],
   "source": [
    "with open('data/co2_mm_mlo.txt',mode='r') as f:\n",
    "    current_line = f.readline()\n",
    "    while (current_line[0] == '#'):\n",
    "        current_line = f.readline()\n",
    "    "
   ]
  },
  {
   "cell_type": "code",
   "execution_count": 21,
   "metadata": {},
   "outputs": [
    {
     "data": {
      "text/plain": [
       "'1958   3    1958.208      315.71      315.71      314.62     -1\\n'"
      ]
     },
     "execution_count": 21,
     "metadata": {},
     "output_type": "execute_result"
    }
   ],
   "source": [
    "current_line"
   ]
  },
  {
   "cell_type": "code",
   "execution_count": 22,
   "metadata": {},
   "outputs": [
    {
     "data": {
      "text/plain": [
       "['1958', '3', '1958.208', '315.71', '315.71', '314.62', '-1\\n']"
      ]
     },
     "execution_count": 22,
     "metadata": {},
     "output_type": "execute_result"
    }
   ],
   "source": [
    "[d for d in current_line.split(' ') if len(d) > 0]"
   ]
  },
  {
   "cell_type": "code",
   "execution_count": 23,
   "metadata": {},
   "outputs": [],
   "source": [
    "import re"
   ]
  },
  {
   "cell_type": "code",
   "execution_count": 24,
   "metadata": {},
   "outputs": [
    {
     "data": {
      "text/plain": [
       "['1958', '3', '1958.208', '315.71', '315.71', '314.62', '-1']"
      ]
     },
     "execution_count": 24,
     "metadata": {},
     "output_type": "execute_result"
    }
   ],
   "source": [
    "data_line = re.sub('\\n','',re.sub(' +',' ',current_line)).split(' ')\n",
    "data_line"
   ]
  },
  {
   "cell_type": "code",
   "execution_count": 25,
   "metadata": {},
   "outputs": [],
   "source": [
    "schema = [int,int,float,float,float,float,int]"
   ]
  },
  {
   "cell_type": "code",
   "execution_count": 26,
   "metadata": {},
   "outputs": [
    {
     "data": {
      "text/plain": [
       "[1958, 3, 1958.208, 315.71, 315.71, 314.62, -1]"
      ]
     },
     "execution_count": 26,
     "metadata": {},
     "output_type": "execute_result"
    }
   ],
   "source": [
    "[sch(d) for sch,d in zip(schema,data_line)]"
   ]
  },
  {
   "cell_type": "code",
   "execution_count": 27,
   "metadata": {},
   "outputs": [],
   "source": [
    "data = []\n",
    "with open('data/co2_mm_mlo.txt',mode='r') as f:\n",
    "    current_line = f.readline()\n",
    "    while (current_line[0] == '#'):\n",
    "        current_line = f.readline()\n",
    "    data_line = re.sub('\\n','',re.sub(' +',' ',current_line)).split(' ')\n",
    "    data_line_typed = [sch(d) for sch,d in zip(schema,data_line)]\n",
    "    data.append(data_line_typed)\n",
    "    for line in f:\n",
    "        data_line = re.sub('\\n','',re.sub(' +',' ',line)).split(' ')\n",
    "        data_line_typed = [sch(d) for sch,d in zip(schema,data_line)]\n",
    "        data.append(data_line_typed)"
   ]
  },
  {
   "cell_type": "code",
   "execution_count": 28,
   "metadata": {},
   "outputs": [
    {
     "data": {
      "text/plain": [
       "array([[ 1.958000e+03,  3.000000e+00,  1.958208e+03, ...,  3.157100e+02,\n",
       "         3.146200e+02, -1.000000e+00],\n",
       "       [ 1.958000e+03,  4.000000e+00,  1.958292e+03, ...,  3.174500e+02,\n",
       "         3.152900e+02, -1.000000e+00],\n",
       "       [ 1.958000e+03,  5.000000e+00,  1.958375e+03, ...,  3.175000e+02,\n",
       "         3.147100e+02, -1.000000e+00],\n",
       "       ...,\n",
       "       [ 2.018000e+03,  9.000000e+00,  2.018708e+03, ...,  4.055100e+02,\n",
       "         4.090900e+02,  2.900000e+01],\n",
       "       [ 2.018000e+03,  1.000000e+01,  2.018792e+03, ...,  4.060000e+02,\n",
       "         4.093800e+02,  3.000000e+01],\n",
       "       [ 2.018000e+03,  1.100000e+01,  2.018875e+03, ...,  4.080200e+02,\n",
       "         4.099800e+02,  2.400000e+01]])"
      ]
     },
     "execution_count": 28,
     "metadata": {},
     "output_type": "execute_result"
    }
   ],
   "source": [
    "import numpy as np\n",
    "data_array = np.array(data,dtype=float)\n",
    "data_array"
   ]
  },
  {
   "cell_type": "code",
   "execution_count": 29,
   "metadata": {},
   "outputs": [
    {
     "data": {
      "text/plain": [
       "(729, 7)"
      ]
     },
     "execution_count": 29,
     "metadata": {},
     "output_type": "execute_result"
    }
   ],
   "source": [
    "data_array.shape"
   ]
  },
  {
   "cell_type": "code",
   "execution_count": 30,
   "metadata": {},
   "outputs": [
    {
     "data": {
      "text/plain": [
       "(729,)"
      ]
     },
     "execution_count": 30,
     "metadata": {},
     "output_type": "execute_result"
    }
   ],
   "source": [
    "data_array[:,4:5].reshape(-1).shape"
   ]
  },
  {
   "cell_type": "code",
   "execution_count": 31,
   "metadata": {},
   "outputs": [],
   "source": [
    "average = data_array[:,4]"
   ]
  },
  {
   "cell_type": "code",
   "execution_count": 32,
   "metadata": {},
   "outputs": [
    {
     "data": {
      "image/png": "[encoded data removed]",
      "text/plain": [
       "<Figure size 640x480 with 1 Axes>"
      ]
     },
     "metadata": {},
     "output_type": "display_data"
    }
   ],
   "source": [
    "import matplotlib.pyplot as plt\n",
    "_=plt.hist(average)"
   ]
  },
  {
   "cell_type": "code",
   "execution_count": 33,
   "metadata": {},
   "outputs": [
    {
     "name": "stdout",
     "output_type": "stream",
     "text": [
      "mean: 353.79\tstd: 27.53\tskew: 0.34\tkurtosis: 1.93\n"
     ]
    }
   ],
   "source": [
    "from Utils import basic_stats\n",
    "basic_stats(average)"
   ]
  },
  {
   "cell_type": "code",
   "execution_count": 34,
   "metadata": {},
   "outputs": [],
   "source": [
    "from Utils import makeEMF, makeEDF,plotEDF"
   ]
  },
  {
   "cell_type": "code",
   "execution_count": 35,
   "metadata": {},
   "outputs": [
    {
     "data": {
      "image/png": "[encoded data removed]",
      "text/plain": [
       "<Figure size 500x500 with 1 Axes>"
      ]
     },
     "metadata": {},
     "output_type": "display_data"
    }
   ],
   "source": [
    "plotEDF(makeEDF(average))"
   ]
  }
 ],
 "metadata": {
  "kernelspec": {
   "display_name": "Python 3 (ipykernel)",
   "language": "python",
   "name": "python3"
  },
  "language_info": {
   "codemirror_mode": {
    "name": "ipython",
    "version": 3
   },
   "file_extension": ".py",
   "mimetype": "text/x-python",
   "name": "python",
   "nbconvert_exporter": "python",
   "pygments_lexer": "ipython3",
   "version": "3.9.13"
  },
  "lx_course_instance": "2023",
  "lx_course_name": "Introduction to Data Science",
  "lx_course_number": "1MS041"
 },
 "nbformat": 4,
 "nbformat_minor": 5
}
