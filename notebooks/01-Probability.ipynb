{
 "cells": [
  {
   "cell_type": "markdown",
   "metadata": {
    "deletable": false
   },
   "source": [
    "# [Introduction to Data Science](http://datascience-intro.github.io/1MS041-2023/)    \n",
    "## 1MS041, 2023 \n",
    "&copy;2023 Raazesh Sainudiin, Benny Avelin. [Attribution 4.0 International     (CC BY 4.0)](https://creativecommons.org/licenses/by/4.0/)"
   ]
  },
  {
   "cell_type": "markdown",
   "metadata": {},
   "source": [
    "# Probability"
   ]
  },
  {
   "cell_type": "markdown",
   "metadata": {},
   "source": [
    "Lets recall some basics from the notes but in a simpler language:\n",
    "\n",
    "An **experiment** is an activity or procedure that produces distinct or well-defined outcomes.  The *set* of such outcomes is called the **sample space** of the experiment.  The sample space is usually denoted with the symbol $\\Omega$.  Lets look at some examples of experiments.\n",
    "\n",
    "### Roll a dice experiment\n",
    "\n",
    "If our experiment is to roll a dice wth faces painted $red$, $green$, $yellow$, $pink$, $blue$ and $black$ and find what colour the top face is at the end of each roll, then the sample space $\\Omega = \\{red, green, yellow, pink, blue, black\\}$.\n",
    "\n",
    "### Flip a coin experiment\n",
    "\n",
    "If our experiment is to flip a coin where the two faces of the coin can be identified as 'heads' ($H$) and 'tails' ($T$), and we are interested in what face lands uppermost, then the sample space is $\\Omega = \\{H, T\\}$.\n",
    "\n",
    "### Draw a fruit from a fruit bowl\n",
    "\n",
    "Suppose we have a well-mixed fruit bowl that contains:\n",
    "\n",
    "- 2 oranges\n",
    "- 3 apples\n",
    "- 1 lemon\n",
    "\n",
    "If our experiment is to take a single fruit from the bowl and the outcome is the type of fruit we take then what is the sample space for this experiment?  \n",
    "\n",
    "Recall that the sample space is the set of all possible outcomes of the experiment.  If we take a single fruit we could get only one of the three fruits in each draw:  an orange, or an apple or a lemon.  The sample space $\\Omega = \\{orange, apple, lemon\\}$.\n",
    "\n",
    "An **event** is a *subset* of the sample space.  For example, we could take the event $\\{orange, lemon\\} \\subset \\Omega$ in the fruit bowl experiment. \n",
    "\n",
    "**Probability** maps a set of events to a set of numbers in a certain axiomatic manner.  Abstractly, probability is a function that assigns numbers in the range 0 to 1 to events\n",
    "\n",
    "$$P : \\text{set of events } \\rightarrow [0,1]$$\n",
    "\n",
    "which satisfies the following axioms:\n",
    "\n",
    "1. For any event $A$, we have $0 \\leq P(A) \\leq 1$.\n",
    "2.  If $\\Omega$ is the sample space, $P(\\Omega) = 1$.\n",
    "3.  If $A$ and $B$ are disjoint (i.e., $A \\cap B =  \\emptyset$), then $P(A \\cup B) = P(A) + P(B)$.\n",
    "4.  If $A_1, A_2, \\ldots$ is an infinite sequence of pair-wise disjoint events (i.e., $A_i \\cap A_j =  \\emptyset$ when $i \\ne j$), then\n",
    "\n",
    "$$\n",
    "\\begin{array}{lcl}\n",
    "\\underbrace{P\\left(\\bigcup_{i=1}^{\\infty}A_i\\right)} &=& \\underbrace{\\sum_{i=1}^{\\infty}P\\left(A_i\\right)} \\\\\n",
    "A_1 \\cup A_2 \\cup A_3 \\dots &=& P(A_1) + P(A_2) + P(A_3) + \\ldots\n",
    "\\end{array}\n",
    "$$\n",
    "\n",
    "The Long Term Relative Frequency interpretation requires the following functions, namely,\n",
    "\n",
    "$$\n",
    "\\begin{array}{llcl}\n",
    "\\text{let } & N(A, n) & = & \\text{ the number of times } A \\text{ occurs in the first } n \\text{ trials,} \\\\\n",
    "\\text{then } & P(A) & = & \\lim_{n \\rightarrow \\infty} \\frac{N(A, n)}{n}\n",
    "\\end{array}\n",
    "$$\n",
    "\n",
    "To think about this, consider what $\\lim_{n \\rightarrow \\infty} \\frac{N(A, n)}{n}$ is: \n",
    "\n",
    "$$\n",
    "\\begin{array}{c}\n",
    "\\frac{N(A, 1)}{1},\\, \\frac{N(A, 2)}{2},\\,\\frac{N(A, 3)}{3},\\,\\ldots \\text{where is this fraction going?}\n",
    "\\end{array}\n",
    "$$\n",
    "\n",
    "Let's look at axioms 1, 2, and 3 above more closely.\n",
    "\n",
    "For any event $A$, with $0 \\leq P(A) \\leq 1$. \n",
    "Well, clearly $0 \\leq \\frac{N(A, n)}{n} \\leq 1$.\n",
    "\n",
    "If $\\Omega$ is the sample space, $P(\\Omega) = 1$.  This essentially says \"something must happen\".  $P(\\Omega) = \\frac{N(\\Omega, n)}{n} = \\frac{n}{n} = 1$.\n",
    "\n",
    "If $A$ and $B$ are disjoint (i.e., $A \\cap B =  \\emptyset$), then $N(A \\cup B, n) = N(A, n) + N(B, n)$ since $A \\cup B$ occurs if either $A$ or $B$ occurs but we know that it is impossible for both $A$ and $B$ to happen (the intersection is the empty set).  This extends to infinitely many disjoint events.\n",
    "\n",
    "Axiom 4 is a bit more controversial, and you can live without it if we only worry about finite stuff. Check the last section in the lecture notes **Extension of probability**."
   ]
  },
  {
   "cell_type": "markdown",
   "metadata": {},
   "source": [
    "Lets do some probability examples.\n",
    "\n",
    "### Example 1: Tossing a fair coin\n",
    "\n",
    "The sample space and probabilties of this experiment are:\n",
    "\n",
    "$$\\Omega = \\{H, T\\}, \\ \\text{and} \\ P(\\{H\\}) = P(\\{T\\}) = \\frac{1}{2} \\ .$$\n",
    "\n",
    "We can represent our probability as the following function:\n",
    "\n",
    "- $P : \\{ \\{H\\} , \\{T\\}, \\{H,T\\}, \\{\\} \\} \\to \\{0,\\frac{1}{2},1\\}$, \n",
    "- with $P(\\{H\\})=\\frac{1}{2}$, $P(\\{T\\})=\\frac{1}{2}$, $P(\\{H,T\\})=1$ and $P(\\{\\})=0$.\n",
    "\n",
    "*notational convenience:* The outcomes which are the elements in the the sample space are denoted without set brackets, for example: $P(\\{H\\})$ is denoted by $P(H)$ for brevity.\n",
    "\n",
    "Check that all our axioms are satisfied: \n",
    "\n",
    "1. yes! because: $0 \\le P(H) = P(T) = \\frac{1}{2} \\le 1$ and $0 \\le P(\\Omega) = 1 \\le 1$.\n",
    "- yes! becasue: $P(\\Omega) = P(\\{H, T\\} = P(\\{H\\}) + P(\\{T\\}) = \\frac{1}{2} + \\frac{1}{2} = 1$.\n",
    "- yes!, because: $P(\\{H, T\\} = P(\\{H\\}) + P(\\{T\\})$.\n",
    "\n",
    "See [this video about tossing a coin](https://www.youtube.com/watch?v=AYnJv68T3MM) by Persi Diaconis of Stanford's Statistics Department.\n",
    "\n",
    "### Example 2: Tossing an  unfair coin\n",
    "\n",
    "$\\Omega = \\{H, T\\}$, $P(H) =\\frac{3}{4}$, $P(T) = \\frac{1}{4}$. So the coin lands heads 3 out of 4 times and lands tails only 1 out of 4 times.\n",
    "\n",
    "Check that all our axioms are satisfied: \n",
    "\n",
    "1. $0 \\le P(H) = \\frac{3}{4} \\le 1$, $0 \\le P(T) = \\frac{1}{4} \\le 1$ and $0 \\le P(\\Omega) = 1 \\le 1$.\n",
    "- $P(\\Omega) = P(\\{H, T\\} = P(\\{H\\}) + P(\\{T\\}) = \\frac{3}{4} + \\frac{1}{4} = 1$.\n",
    "- $P(\\{H, T\\} = P(\\{H\\}) + P(\\{T\\})$.\n",
    "\n",
    "Yes, all three axioms are satisfied by the probabiliy for this unfair coin experiment too."
   ]
  },
  {
   "cell_type": "markdown",
   "metadata": {},
   "source": [
    "### Example 2: New Zealand Lotto\n",
    "\n",
    "In New Zealand Lotto, the balls drawn are numbered 1 to 40.  The number on a ball is an outcome. \n",
    "\n",
    "$\\Omega = \\{1, 2, \\ldots,40\\}$, $P(\\omega) = \\frac{1}{40}$ for each $\\omega \\in \\Omega$ (i.e., $P(1) = P(2) = \\ldots = P(40) = \\frac{1}{40}$)\n",
    "\n",
    "Now, consider the event that the first ball is even?  What is the probability of this event, $P(\\{2, 4, 6, \\ldots, 38, 40\\})$?\n",
    "\n",
    "$$\n",
    "\\begin{array}{lcll} P(\\{2, 4, \\ldots, 38, 40\\}) & = & P \\left( \\{2\\} \\cup \\{4\\} \\cup \\cdots \\cup \\{38\\} \\cup \\{40\\} \\right) & \\text{(defn. of set union)}\\\\ & = & P( \\{2\\}) +P( \\{4\\}) + \\cdots + P(\\{38\\}) + P( \\{40\\}) & \\text{(extn. Axiom 3)} \\\\ & = & \\sum_{i \\in \\{2, 4, \\ldots, 40\\}} P(\\{i\\}) & \\\\ & = & 20 \\times \\frac{1}{40} & \\\\ & = & \\frac{1}{2} & \\end{array}\n",
    "$$\n",
    "\n",
    "Similarly for the probability of an odd ball:\n",
    "\n",
    "$$\n",
    "\\begin{array}{lcl} P(\\{1, 3, 5, \\ldots, 37, 39\\}) & = & P \\left( \\{1\\} \\cup \\{3\\} \\cup \\cdots \\cup \\{37\\} \\cup \\{39\\} \\right)\\\\ & = & P(\\{1\\}) +P( \\{3\\}) + \\cdots + P(\\{37\\}) + P( \\{39\\})\\\\ & = & \\sum_{i \\in \\{1, 3, \\ldots, 37, 39\\}} P(\\{i\\}) \\\\ & = & 20 \\times \\frac{1}{40} \\\\ & = & \\frac{1}{2} \\end{array}\n",
    "$$"
   ]
  },
  {
   "cell_type": "markdown",
   "metadata": {},
   "source": [
    "*Aside:* The set of all possible subsets of $\\Omega$ is called the power set and is denoted by $2^{\\Omega}$.  The power set contains all events of a sample space and is a natural domain for the probability function defined on a sample space with finitely many outcomes.  We will see more on this later but if you are impatient see <a href=\"https://en.wikipedia.org/wiki/Event_(probability_theory)#Events_in_probability_spaces\">here</a>."
   ]
  },
  {
   "cell_type": "markdown",
   "metadata": {},
   "source": [
    "### Computer Representations of Mathematical Concepts and Objects\n",
    "\n",
    "So we have probabilities associated with events satisfying some axioms --  that sounds like a good use for a dictionary?   That's basically what are going to use, but we 'wrap' up the dictionary in some extra code that does things like check that the probabilities add to 1, and that each element in the list of outcomes we have given is unique.   If you are interested in programming, we have coded our own type, or class, called `ProbyMap` (it's given in the next cell, and you can simply evaluate it and ignore all the details completely!).   Once the class is coded, we create a `ProbyMap` by providing the sample space and the probabilities.   You don't have to worry about how the class is implemented, but note that you may often want to use the computer to create a **computerised representation of a mathematical concept**.  Once the concept (a discrete probability map in our case) is implemenetd, then we can use the computer to automate the mundane tasks of large-scale computations."
   ]
  },
  {
   "cell_type": "code",
   "execution_count": null,
   "metadata": {},
   "outputs": [],
   "source": [
    "# create a class for a probability map - if you are new to Python just evaluate and skip this cell\n",
    "# This was coded by Jenny Harlow\n",
    "\n",
    "import copy\n",
    "class ProbyMap(object):                # class definition\n",
    "    'Probability map class'\n",
    "    def __init__(self, sspace, probs): # constructor\n",
    "        self.__probmap = {}  # default probmap is empty\n",
    "        # make checks on the objects given as sspace and probs\n",
    "        try:                           \n",
    "            sspace_set = set(sspace) # check that we can make the sample space into a set\n",
    "            assert len(sspace_set) == len(sspace) # and not lose any elements\n",
    "            prob_list = list(probs) # and we can make the probs into a list\n",
    "            probsum = sum(prob_list) # and we can sum the probs\n",
    "            assert abs(probsum - 1) < 1e-10 # and the probs sum to 1\n",
    "            assert len(prob_list) == len(sspace_set) # and there is proby for each event\n",
    "            \n",
    "            self.__probmap = dict(zip(list(sspace),prob_list))    # map from sspace to probs\n",
    "                    \n",
    "        except TypeError as diag: # if there any problems with types\n",
    "            init_error = 1\n",
    "            print (str(diag))\n",
    "            \n",
    "        except AssertionError as e:\n",
    "            init_error = 1\n",
    "            print (\"Check sample space and probabilities\")\n",
    "            \n",
    "                  \n",
    "    def P(self, events):\n",
    "        '''Return the probability of an event or set of events.\n",
    "        \n",
    "        events is set of events in the sample space to calculate the probability for.'''\n",
    "        \n",
    "        retvalue = 0\n",
    "        try:                              \n",
    "            events_set = set(events) # check we can make a set out of the events\n",
    "            assert len(events_set) == len(events) # and not lose any events\n",
    "            assert events_set <= set(self.__probmap.keys()) # events subset of sample space\n",
    "        \n",
    "            for ev in events:     # add each mapped probability to the return value\n",
    "                retvalue += self.__probmap[ev]\n",
    "                \n",
    "        except TypeError as diag:\n",
    "            print (str(diag))      \n",
    "        \n",
    "        except AssertionError:\n",
    "            print (\"Check your events\")\n",
    "        \n",
    "        return retvalue\n",
    "        \n",
    "    def __str__(self):                            # redefine printable string rep\n",
    "        'Printable representation of the object.'\n",
    "        num_keys = len(self.__probmap.keys())\n",
    "        counter = 0\n",
    "        retval = '{'\n",
    "        for each_key in self.__probmap:\n",
    "            counter += 1\n",
    "            retval += str(each_key)\n",
    "            retval += ': '\n",
    "            retval += \"%.3f\" % self.__probmap[each_key]\n",
    "            if counter < num_keys:\n",
    "                retval += ', '\n",
    "        retval += '}'        \n",
    "                \n",
    "        return retval\n",
    "        \n",
    "    __repr__ = __str__\n",
    "        \n",
    "    def get_probmap(self):                        # get a deep copy of the proby map\n",
    "        return copy.deepcopy(self.__probmap)      # getter cannot alter object's map\n",
    "    \n",
    "    probmap = property(get_probmap)               # allow read access via .probmap\n",
    "    \n",
    "    def get_ref_probmap(self):                    # get a reference to the real probmap\n",
    "        return self.__probmap                     # getter can alter the object's map\n",
    "        \n",
    "    \n",
    "    ref_probmap = property(get_ref_probmap)       # allow access via .ref_probmap\n",
    "    \n",
    "    @staticmethod\n",
    "    def dictExp(big_map, small_map):\n",
    "        '''Internal helper function for __pow__(...).\n",
    "        \n",
    "        Takes two proby map dictionaries and returns one mult by other.'''\n",
    "        new_bl = {}\n",
    "        for sle in small_map:\n",
    "            for ble in big_map:\n",
    "                new_key = str(ble) + ' ' + str (sle)\n",
    "                new_bl[new_key] = big_map[ble]*small_map[sle]\n",
    "        return new_bl\n",
    "        \n",
    "    def __pow__(self, x):\n",
    "        '''probability map exponentiated.'''\n",
    "        try:\n",
    "            assert isinstance(x, Integer)\n",
    "            pmap = copy.deepcopy(self.__probmap) # copy the probability map dictionary\n",
    "            new_pmap = copy.deepcopy(self.__probmap) # and another copy\n",
    "            for i in range(x-1):\n",
    "                new_pmap = self.dictExp(new_pmap, pmap)\n",
    "            \n",
    "            return ProbyMap(new_pmap.keys(), new_pmap.values())       \n",
    "            \n",
    "        except AssertionError as e:\n",
    "            print (\"cannot raise to non-integer power\")\n",
    "            return None"
   ]
  },
  {
   "cell_type": "markdown",
   "metadata": {},
   "source": [
    "#### Example 4: Experiments, outcomes, sample spaces, events, and the probability of events\n",
    "\n",
    "Let's go back to the well-mixed fruit bowl experiment.  The fruit bowl contains:\n",
    "\n",
    "- 2 oranges\n",
    "- 3 apples\n",
    "- 1 lemon\n",
    "\n",
    "The experiment is to take one piece of fruit from the bowl and the outcome is the type of fruit we get. \n",
    "\n",
    "The sample space is $\\Omega = \\{orange, apple, lemon\\}$\n",
    "\n",
    "We can use the Python list to create this sample space (a list is a bit easier to use than a set, but using a list means that we are responsible for making sure that each element contained in it is unique)."
   ]
  },
  {
   "cell_type": "code",
   "execution_count": null,
   "metadata": {},
   "outputs": [],
   "source": [
    "# sample space is the set of distinct type of fruits in the bowl\n",
    "samplespace = ['orange', 'apple', 'lemon']"
   ]
  },
  {
   "cell_type": "markdown",
   "metadata": {},
   "source": [
    "We can also use a list to specify what the probability of each outcome in the sample space is.   The probabilities can be calculated by knowing how many fruits of each kind are there in the bowl.   We say that the fruit bowl is 'well-stirred', which essentially means that when we pick a fruit it really is a 'random sample' from the bowl (for example, we have not carefully put all the apples on the top so that someone will almost certainly get an apple when they take a fruit).   More on this later in the course!   Note that the probabilities encoded by a list  named probabilities are in the same order as the outcomes in the samplespace list.  "
   ]
  },
  {
   "cell_type": "code",
   "execution_count": null,
   "metadata": {},
   "outputs": [],
   "source": [
    "# probabilities take into account the number of each type of fruit in the \"well-stirred\" fruit bowl\n",
    "probabilities = [2/6, 3/6, 1/6]"
   ]
  },
  {
   "cell_type": "code",
   "execution_count": null,
   "metadata": {},
   "outputs": [],
   "source": [
    "probMapFruitbowl = ProbyMap(sspace = samplespace, probs=probabilities) # make our probability map\n",
    "probMapFruitbowl         # disclose our probability map"
   ]
  },
  {
   "cell_type": "markdown",
   "metadata": {},
   "source": [
    "We can use our probability map to find the probability of a single outcome like this:"
   ]
  },
  {
   "cell_type": "code",
   "execution_count": null,
   "metadata": {},
   "outputs": [],
   "source": [
    "# Find the probability of outcome 'lemon'\n",
    "probMapFruitbowl.P(['lemon'])"
   ]
  },
  {
   "cell_type": "markdown",
   "metadata": {},
   "source": [
    "We can also use our probability map to find the probability of an event (set of outcomes)."
   ]
  },
  {
   "cell_type": "code",
   "execution_count": null,
   "metadata": {},
   "outputs": [],
   "source": [
    "# Find the probability of the event {lemon, orange}\n",
    "probMapFruitbowl.P(['lemon','orange'])"
   ]
  },
  {
   "cell_type": "markdown",
   "metadata": {},
   "source": [
    "Basically, the probability map implemented by `ProbyMap` is essentially a map or dictionary with some additional bells and whistles."
   ]
  },
  {
   "cell_type": "markdown",
   "metadata": {},
   "source": [
    "Basically, the probability map is essentially a map or dictionary.\n",
    "\n",
    "Next we will obtain the set of all events (the largest $\\sigma$-algebra or $\\sigma$-field in math lingo) from the outcomes in our sample space via the `Subset` function and find the probability of each event using our `ProbyMap` in a for loop."
   ]
  },
  {
   "cell_type": "code",
   "execution_count": null,
   "metadata": {},
   "outputs": [],
   "source": [
    "def powerset(samplespace):\n",
    "    \"\"\"A function that takes a set and produces all subsets\n",
    "    \"\"\"\n",
    "    from itertools import chain, combinations\n",
    "    \"powerset([1,2,3]) --> () (1,) (2,) (3,) (1,2) (1,3) (2,3) (1,2,3)\"\n",
    "    s = list(samplespace)\n",
    "    return list(chain.from_iterable(combinations(s, r) for r in range(len(s)+1)))"
   ]
  },
  {
   "cell_type": "code",
   "execution_count": null,
   "metadata": {},
   "outputs": [],
   "source": [
    "# make the set of all possible events from the set of outcomes \n",
    "\n",
    "setOfAllEvents = powerset(samplespace)  # Subsets(A) returns the set of all subsets of A\n",
    "setOfAllEvents   # disclose the set of all events"
   ]
  },
  {
   "cell_type": "code",
   "execution_count": null,
   "metadata": {},
   "outputs": [],
   "source": [
    "# loop through the set of all events and print the computed probability\n",
    "for event in setOfAllEvents:\n",
    "    print (\"P(\", event, \") = \", probMapFruitbowl.P(event))"
   ]
  },
  {
   "cell_type": "markdown",
   "metadata": {},
   "source": [
    "### Example 5: Experiments with the English language\n",
    "\n",
    "In English language text there are 26 letters in the alphabet. The relative frequencies with which each letter appears is tabulated below:\n",
    "\n",
    "<table border=\"1\"><colgroup> <col width=\"20\" /> <col width=\"30\" /> <col width=\"20\" /> <col width=\"30\" /> <col width=\"20\" /> <col width=\"30\" /> </colgroup>\n",
    "<tbody>\n",
    "<tr>\n",
    "<td>E</td>\n",
    "<td>13.0%</td>\n",
    "<td>H</td>\n",
    "<td>3.5%</td>\n",
    "<td>W</td>\n",
    "<td>1.6%</td>\n",
    "</tr>\n",
    "<tr>\n",
    "<td>T</td>\n",
    "<td>9.3%</td>\n",
    "<td>L</td>\n",
    "<td>3.5%</td>\n",
    "<td>V</td>\n",
    "<td>1.3%</td>\n",
    "</tr>\n",
    "<tr>\n",
    "<td>N</td>\n",
    "<td>7.8%</td>\n",
    "<td>C</td>\n",
    "<td>3.0%</td>\n",
    "<td>B</td>\n",
    "<td>0.9%</td>\n",
    "</tr>\n",
    "<tr>\n",
    "<td>R</td>\n",
    "<td>7.7%</td>\n",
    "<td>F</td>\n",
    "<td>2.8%</td>\n",
    "<td>X</td>\n",
    "<td>0.5%</td>\n",
    "</tr>\n",
    "<tr>\n",
    "<td>O</td>\n",
    "<td>7.4%</td>\n",
    "<td>P</td>\n",
    "<td>2.7%</td>\n",
    "<td>K</td>\n",
    "<td>0.3%</td>\n",
    "</tr>\n",
    "<tr>\n",
    "<td>I</td>\n",
    "<td>7.4%</td>\n",
    "<td>U</td>\n",
    "<td>2.7%</td>\n",
    "<td>Q</td>\n",
    "<td>0.3%</td>\n",
    "</tr>\n",
    "<tr>\n",
    "<td>A</td>\n",
    "<td>7.3%</td>\n",
    "<td>M</td>\n",
    "<td>2.5%</td>\n",
    "<td>J</td>\n",
    "<td>0.2%</td>\n",
    "</tr>\n",
    "<tr>\n",
    "<td>S</td>\n",
    "<td>6.3%</td>\n",
    "<td>Y</td>\n",
    "<td>1.9%</td>\n",
    "<td>Z</td>\n",
    "<td>0.1%</td>\n",
    "</tr>\n",
    "<tr>\n",
    "<td>D</td>\n",
    "<td>4.4%</td>\n",
    "<td>G</td>\n",
    "<td>1.6%</td>\n",
    "<td>&nbsp;</td>\n",
    "<td>&nbsp;</td>\n",
    "</tr>\n",
    "</tbody>\n",
    "</table>\n",
    "\n",
    "Using these relative frequencies as probabilities we can create a probability map for the letters in the English alphabet.   We start by defining the sample space and the probabilities."
   ]
  },
  {
   "cell_type": "code",
   "execution_count": null,
   "metadata": {},
   "outputs": [],
   "source": [
    "alphaspace = ['A','B','C','D','E','F','G','H','I','J','K','L','M','N','O','P','Q',\n",
    "              'R','S','T','U','V','W','X','Y','Z']\n",
    "alphaRelFreqs = [73/1000,9/1000,30/1000,44/1000,130/1000,28/1000,16/1000,35/1000,74/1000,\n",
    "                 2/1000,3/1000,35/1000, 25/1000,78/1000,74/1000,27/1000,3/1000,77/1000,63/1000,\n",
    "                 93/1000,27/1000,13/1000,16/1000,5/1000,19/1000,1/1000]"
   ]
  },
  {
   "cell_type": "markdown",
   "metadata": {},
   "source": [
    "Then we create the probability map, represented by a `ProbyMap` object."
   ]
  },
  {
   "cell_type": "code",
   "execution_count": null,
   "metadata": {},
   "outputs": [],
   "source": [
    "probMapLetters = ProbyMap(sspace = alphaspace, probs=alphaRelFreqs) # make our probability map\n",
    "probMapLetters         # disclose our probability map"
   ]
  },
  {
   "cell_type": "markdown",
   "metadata": {},
   "source": [
    "Please do NOT try to list the set of all subsets (events) of the 26 alphabet set (sample space):  there are over 67 million events and the computer will probably crash by running out of memory!  You can see how large a number we are talking about by evaluating the next cell which calculates $2^{26}$ for you."
   ]
  },
  {
   "cell_type": "code",
   "execution_count": null,
   "metadata": {},
   "outputs": [],
   "source": [
    "2**26"
   ]
  },
  {
   "cell_type": "markdown",
   "metadata": {},
   "source": [
    "Instead of asking for the probability of each event (over 67 million of them to exhaustively march through!) we define some events of interest, say the vowels in the alphabet or the set of letters that make up a name."
   ]
  },
  {
   "cell_type": "code",
   "execution_count": null,
   "metadata": {},
   "outputs": [],
   "source": [
    "vowels = ['A', 'E', 'I', 'O', 'U']"
   ]
  },
  {
   "cell_type": "markdown",
   "metadata": {},
   "source": [
    "And we can get the probability that a letter drawn from a 'well-stirred' jumble of English letters is a vowel."
   ]
  },
  {
   "cell_type": "code",
   "execution_count": null,
   "metadata": {},
   "outputs": [],
   "source": [
    "probMapLetters.P(vowels)"
   ]
  },
  {
   "cell_type": "markdown",
   "metadata": {},
   "source": [
    "We can make ourselves another set of letters and find probabilities for that too.  In the cell below, we go straight from a string to a set.  The reason that we can do this is that a string or `str` is in fact another collection; `str` is a [sequence type](https://docs.python.org/2/library/stdtypes.html#sequence-types-str-unicode-list-tuple-bytearray-buffer-xrange) just like `list`. "
   ]
  },
  {
   "cell_type": "code",
   "execution_count": null,
   "metadata": {},
   "outputs": [],
   "source": [
    "Cat=set(\"CAT\") # make a set from a string\n",
    "Cat            # disclose the set NameOfRaaz you have built"
   ]
  },
  {
   "cell_type": "code",
   "execution_count": null,
   "metadata": {},
   "outputs": [],
   "source": [
    "probMapLetters.P(Cat)"
   ]
  },
  {
   "cell_type": "markdown",
   "metadata": {},
   "source": [
    "Try either adapting what we have above, or doing the same thing in some of cells below, to find the probabilities of other sets of letters yourself. For example, what is the probability of your name in the above sense?"
   ]
  },
  {
   "cell_type": "code",
   "execution_count": null,
   "metadata": {},
   "outputs": [],
   "source": []
  },
  {
   "cell_type": "code",
   "execution_count": null,
   "metadata": {},
   "outputs": [],
   "source": []
  },
  {
   "cell_type": "markdown",
   "metadata": {},
   "source": [
    "The crucial point of the above exercise with our own implementation of a `Python class` for probability maps is to show how computers and mathematics can go hand in hand to quickly generalize operations over specific instances of a large class of mathematical notions (Example 4 and 5 for probability models on finite sample spaces in our case above)."
   ]
  },
  {
   "cell_type": "markdown",
   "metadata": {},
   "source": [
    "# Counting words in a text file\n",
    "\n",
    "Now we will load a file and count its words, this will allow us to estimate probabilities etc."
   ]
  },
  {
   "cell_type": "markdown",
   "metadata": {},
   "source": [
    "## SMS spam data\n",
    "\n",
    "In the following problem we will explore SMS spam texts. The dataset is the `SMS Spam Collection Dataset` and we have provided for you a way to load the data. "
   ]
  },
  {
   "cell_type": "markdown",
   "metadata": {},
   "source": [
    "The sms data is stored in the file `data/spam.csv`, lets have a look at the head of that file. Recall the BASH command `head` which lists the first lines of a file. In this case we submitted the command `-n 4` to tell it to show only `4` lines."
   ]
  },
  {
   "cell_type": "code",
   "execution_count": 1,
   "metadata": {},
   "outputs": [
    {
     "name": "stdout",
     "output_type": "stream",
     "text": [
      "v1,v2,,,\r\n",
      "ham,\"Go until jurong point, crazy.. Available only in bugis n great world la e buffet... Cine there got amore wat...\",,,\r\n",
      "ham,Ok lar... Joking wif u oni...,,,\r\n",
      "spam,Free entry in 2 a wkly comp to win FA Cup final tkts 21st May 2005. Text FA to 87121 to receive entry question(std txt rate)T&C's apply 08452810075over18's,,,\r\n"
     ]
    }
   ],
   "source": [
    "%%sh \n",
    "head -n 4 data/spam.csv"
   ]
  },
  {
   "cell_type": "markdown",
   "metadata": {},
   "source": [
    "From the above we can see that it is a so called \"comma separated values\" or \"csv\" file. There are many ways of loading such a file, but the most pythonic way is to use the csv package, although it is a bit slow. Later you will probably use the `Pandas` package to load tabular data, but it is too black box for us at this stage. Below I have provided a function to load this data. Some breakdown is perhaps necessary\n",
    "\n",
    "* The first row is the header, this puts names to the values\n",
    "* Each row has five columns, but only the first two have names\n",
    "* The first one called `v1` is the label for the sms text which can be found in column `v2`."
   ]
  },
  {
   "cell_type": "code",
   "execution_count": 2,
   "metadata": {},
   "outputs": [],
   "source": [
    "def load_sms():\n",
    "    \"\"\"\n",
    "    A wrapper function to load the sms data\n",
    "    \"\"\"\n",
    "    import csv\n",
    "    lines = []\n",
    "    hamspam = {'ham': 0, 'spam': 1}\n",
    "    with open('data/spam.csv', mode='r', encoding='latin-1') as f:\n",
    "        reader = csv.reader(f)\n",
    "        # When using the csv reader, each time you use the function\n",
    "        # next on it, it will spit out a list split at the ','\n",
    "        header = next(reader)\n",
    "        # We store this as (\"txt\",label), where we have used the function\n",
    "        # hamspam to convert from \"ham\",\"spam\" to 0 and 1.\n",
    "        lines = [(line[1],hamspam[line[0]]) for line in reader]\n",
    "        \n",
    "    return lines"
   ]
  },
  {
   "cell_type": "code",
   "execution_count": 3,
   "metadata": {},
   "outputs": [
    {
     "data": {
      "text/plain": [
       "[('Go until jurong point, crazy.. Available only in bugis n great world la e buffet... Cine there got amore wat...',\n",
       "  0),\n",
       " ('Ok lar... Joking wif u oni...', 0)]"
      ]
     },
     "execution_count": 3,
     "metadata": {},
     "output_type": "execute_result"
    }
   ],
   "source": [
    "sms_data = load_sms()\n",
    "sms_data[:2]"
   ]
  },
  {
   "cell_type": "markdown",
   "metadata": {},
   "source": [
    "We will now do something interesting with this data. \n",
    "\n",
    "$$\n",
    "    \\Omega = \\{\\text{All possible sms texts}\\}\n",
    "$$\n",
    "for each outcome $\\omega$ (the text) we assign a value $0$ if it is not spam and $1$ if it is spam, we can represent this with a function $X(\\omega)$. In our dataset $\\omega$ is just the first value in the tuple and $X(\\omega)$ is the second value.\n",
    "\n",
    "So in the case when $\\omega = $ '`Go until jurong point, crazy.. Available only in bugis n great world la e buffet... Cine there got amore wat...`'\n",
    "we have $X(\\omega) = 0$."
   ]
  },
  {
   "cell_type": "markdown",
   "metadata": {},
   "source": [
    "$X$ is actually a coming attraction, i.e. the concept of a random variable, which assigns values to outcomes. We can also think of $A$ as the event, \"the text is a spam\", thus $\\omega \\in A$ if and only if $X(\\omega) = 1$."
   ]
  },
  {
   "cell_type": "markdown",
   "metadata": {},
   "source": [
    "We can ignore what $X$ actually is and rewrite this problem such that we only look at $X$. In this case \n",
    "\n",
    "$$\n",
    "    \\Omega = \\{0,1\\}\n",
    "$$"
   ]
  },
  {
   "cell_type": "code",
   "execution_count": null,
   "metadata": {},
   "outputs": [],
   "source": [
    "samplespace_sms_X = [0,1]"
   ]
  },
  {
   "cell_type": "markdown",
   "metadata": {},
   "source": [
    "How do we actually get the probabilities? Well, since we have two outcomes we can use the LTRF idea"
   ]
  },
  {
   "cell_type": "code",
   "execution_count": 4,
   "metadata": {},
   "outputs": [
    {
     "data": {
      "text/plain": [
       "0.13406317300789664"
      ]
     },
     "execution_count": 4,
     "metadata": {},
     "output_type": "execute_result"
    }
   ],
   "source": [
    "# Number of times the spam occurs divided by the amount of sms data\n",
    "N_spam_n = sum([sms[1] for sms in sms_data]) / len(sms_data)\n",
    "N_spam_n"
   ]
  },
  {
   "cell_type": "code",
   "execution_count": null,
   "metadata": {},
   "outputs": [],
   "source": [
    "relFreqs_sms_X = [1-N_spam_n, N_spam_n]\n",
    "sms_X_probmap = ProbyMap(sspace = samplespace_sms_X, probs=relFreqs_sms_X) # make our probability map"
   ]
  },
  {
   "cell_type": "code",
   "execution_count": null,
   "metadata": {},
   "outputs": [],
   "source": [
    "sms_X_probmap"
   ]
  },
  {
   "cell_type": "markdown",
   "metadata": {},
   "source": [
    "So you see, the probabilities for the spam/ham problem became the same as in the biased coin flip."
   ]
  },
  {
   "cell_type": "markdown",
   "metadata": {},
   "source": [
    "### Counting words\n",
    "\n",
    "Lets check what happens when we count frequencies of words in the spam dataset. Lets choose the word `free`. What we want is a function that takes as input the sms text and outputs $0$ if the word does not appear and $1$ if it appears."
   ]
  },
  {
   "cell_type": "code",
   "execution_count": null,
   "metadata": {},
   "outputs": [],
   "source": [
    "def free_in_txt(txt):\n",
    "    if 'free' in txt: \n",
    "        return 1\n",
    "    return 0"
   ]
  },
  {
   "cell_type": "code",
   "execution_count": null,
   "metadata": {},
   "outputs": [],
   "source": [
    "free_in_txt(\"Hello there\")"
   ]
  },
  {
   "cell_type": "code",
   "execution_count": null,
   "metadata": {},
   "outputs": [],
   "source": [
    "free_in_txt(\"Hello there I am free\")"
   ]
  },
  {
   "cell_type": "markdown",
   "metadata": {},
   "source": [
    "$Y(\\omega)$ = \"1 if free appears and 0 if it does not\". Again, we can also think of $B$ as the event, \"the word free appears in the text\", thus $\\omega \\in B$ if and only if $Y(\\omega) = 1$."
   ]
  },
  {
   "cell_type": "code",
   "execution_count": null,
   "metadata": {},
   "outputs": [],
   "source": [
    "sms_free_in_word = [free_in_txt(txt) for txt,label in sms_data]"
   ]
  },
  {
   "cell_type": "code",
   "execution_count": null,
   "metadata": {},
   "outputs": [],
   "source": [
    "samplespace_sms_Y = samplespace_sms_X\n",
    "# Number of times the free occured in data\n",
    "N_free_n = sum(sms_free_in_word) / len(sms_free_in_word)\n",
    "N_free_n"
   ]
  },
  {
   "cell_type": "code",
   "execution_count": null,
   "metadata": {},
   "outputs": [],
   "source": [
    "## YouTry\n",
    "# Create a probability map with the sample space and probabilities\n",
    "# for the above example."
   ]
  },
  {
   "cell_type": "markdown",
   "metadata": {},
   "source": [
    "## Conditional probability\n",
    "\n",
    "Now that we have the two events $A$ and $B$ or the two random variables $X$ and $Y$ we can try to compute the following quantity\n",
    "\n",
    "$$\n",
    "    P(A \\mid B) := \\frac{P(A \\cap B)}{P(B)}\n",
    "$$\n",
    "\n",
    "or equivalently\n",
    "\n",
    "$$\n",
    "    P(X = 1 \\mid Y = 1) := \\frac{P(X = 1 \\text{ and } Y = 1)}{P(Y = 1)}.\n",
    "$$\n",
    "\n",
    "What does this mean? What is the probability that our text is a spam given that we know it contains the word \"free\"."
   ]
  },
  {
   "cell_type": "markdown",
   "metadata": {},
   "source": [
    "$P(A \\cap B)$ is the statement that the events $A$ and $B$ happen at the same time, i.e. $X=Y=1$. We can make this easily"
   ]
  },
  {
   "cell_type": "code",
   "execution_count": null,
   "metadata": {},
   "outputs": [],
   "source": [
    "X = [sms[1] for sms in sms_data]\n",
    "Y = sms_free_in_word\n",
    "X_and_Y = [x*y for x,y in zip(X,Y)]\n",
    "N_X_and_Y = sum(X_and_Y)/len(X_and_Y)\n",
    "N_X_and_Y"
   ]
  },
  {
   "cell_type": "code",
   "execution_count": null,
   "metadata": {},
   "outputs": [],
   "source": [
    "# So lets just divide this with N_free_n from above and we get\n",
    "N_X_and_Y/N_free_n"
   ]
  },
  {
   "cell_type": "markdown",
   "metadata": {},
   "source": [
    "So the probability jumped up to 1/2. So, if we see the word `free` in the sms, we are more certain that it is a spam."
   ]
  },
  {
   "cell_type": "markdown",
   "metadata": {},
   "source": [
    "Another way to do the same thing, is to take our original data and remove all texts that does not contain the word free and compute the relative frequency of spam in the remaining data"
   ]
  },
  {
   "cell_type": "code",
   "execution_count": null,
   "metadata": {},
   "outputs": [],
   "source": [
    "free_only_sms = [(txt, label) for txt,label in sms_data if free_in_txt(txt)]\n",
    "sum([sms[1] for sms in free_only_sms])/len(free_only_sms)"
   ]
  },
  {
   "cell_type": "markdown",
   "metadata": {},
   "source": [
    "## Dependence and independence\n",
    "\n",
    "From the above computation, would you say that the events $A$ and $B$ are dependent or independent?"
   ]
  }
 ],
 "metadata": {
  "kernelspec": {
   "display_name": "Python 3 (ipykernel)",
   "language": "python",
   "name": "python3"
  },
  "language_info": {
   "codemirror_mode": {
    "name": "ipython",
    "version": 3
   },
   "file_extension": ".py",
   "mimetype": "text/x-python",
   "name": "python",
   "nbconvert_exporter": "python",
   "pygments_lexer": "ipython3",
   "version": "3.9.13"
  },
  "lx_course_instance": "2023",
  "lx_course_name": "Introduction to Data Science",
  "lx_course_number": "1MS041"
 },
 "nbformat": 4,
 "nbformat_minor": 5
}
